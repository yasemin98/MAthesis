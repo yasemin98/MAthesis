{
 "cells": [
  {
   "cell_type": "markdown",
   "metadata": {},
   "source": [
    "# Cleaning & Preprocessing\n",
    "\n",
    "In this notebook, I perform some more cleaning and preprocessing of the dataset. More specifically, I perform the following steps:\n",
    "- remove columns that are unnecessary \n",
    "- remove rows that are unrelated to LGBTQI+ \n",
    "- create column 'zittingsperiode'\n",
    "- split the 'text' value into question and answer \n"
   ]
  },
  {
   "cell_type": "code",
   "execution_count": 2,
   "metadata": {},
   "outputs": [],
   "source": [
    "# import packages\n",
    "import pandas as pd\n",
    "import matplotlib.pyplot as plt\n",
    "import numpy as np\n",
    "import seaborn as sns\n",
    "import re"
   ]
  },
  {
   "cell_type": "code",
   "execution_count": 3,
   "metadata": {},
   "outputs": [],
   "source": [
    "df = pd.read_csv('questions_MP.csv', encoding='cp437')"
   ]
  },
  {
   "cell_type": "code",
   "execution_count": 8,
   "metadata": {},
   "outputs": [],
   "source": [
    "# visualization setting\n",
    "sns.set(style=\"whitegrid\")"
   ]
  },
  {
   "cell_type": "markdown",
   "metadata": {},
   "source": [
    "## Remove unnecessary columns"
   ]
  },
  {
   "cell_type": "code",
   "execution_count": 10,
   "metadata": {},
   "outputs": [
    {
     "name": "stdout",
     "output_type": "stream",
     "text": [
      "<class 'pandas.core.frame.DataFrame'>\n",
      "RangeIndex: 506 entries, 0 to 505\n",
      "Data columns (total 23 columns):\n",
      " #   Column                       Non-Null Count  Dtype  \n",
      "---  ------                       --------------  -----  \n",
      " 0   id_fact                      506 non-null    int64  \n",
      " 1   zittingsjaar                 506 non-null    object \n",
      " 2   naam_vragensteller           506 non-null    object \n",
      " 3   voornaam_vragensteller       506 non-null    object \n",
      " 4   id_vragensteller             506 non-null    int64  \n",
      " 5   bevraagde_minister_naam      506 non-null    object \n",
      " 6   bevraagde_minister_voornaam  506 non-null    object \n",
      " 7   bevraagde_minister_id        506 non-null    int64  \n",
      " 8   publicatiedatum              506 non-null    object \n",
      " 9   text                         506 non-null    object \n",
      " 10  thema_2                      0 non-null      float64\n",
      " 11  thema_3                      0 non-null      float64\n",
      " 12  thema_4                      0 non-null      float64\n",
      " 13  thema_5                      0 non-null      float64\n",
      " 14  thema_6                      0 non-null      float64\n",
      " 15  title                        506 non-null    object \n",
      " 16  thema_1                      472 non-null    object \n",
      " 17  voornaam                     506 non-null    object \n",
      " 18  achternaam                   506 non-null    object \n",
      " 19  geslacht                     506 non-null    object \n",
      " 20  geboortedatum                506 non-null    object \n",
      " 21  party_id                     506 non-null    int64  \n",
      " 22  party_naam                   506 non-null    object \n",
      "dtypes: float64(5), int64(4), object(14)\n",
      "memory usage: 91.0+ KB\n",
      "None\n",
      "            id_fact  id_vragensteller  bevraagde_minister_id  thema_2  \\\n",
      "count  5.060000e+02        506.000000              506.00000      0.0   \n",
      "mean   1.049419e+06       3436.660079             3091.84585      NaN   \n",
      "std    4.134797e+05        801.563531              735.89516      NaN   \n",
      "min    4.226460e+05       1745.000000             1746.00000      NaN   \n",
      "25%    6.497990e+05       2852.000000             2771.00000      NaN   \n",
      "50%    1.054602e+06       3449.000000             2816.00000      NaN   \n",
      "75%    1.421476e+06       4083.000000             3461.00000      NaN   \n",
      "max    1.774502e+06       4547.000000             4441.00000      NaN   \n",
      "\n",
      "       thema_3  thema_4  thema_5  thema_6      party_id  \n",
      "count      0.0      0.0      0.0      0.0  5.060000e+02  \n",
      "mean       NaN      NaN      NaN      NaN  1.363130e+06  \n",
      "std        NaN      NaN      NaN      NaN  1.931197e+05  \n",
      "min        NaN      NaN      NaN      NaN -1.000000e+00  \n",
      "25%        NaN      NaN      NaN      NaN  1.279896e+06  \n",
      "50%        NaN      NaN      NaN      NaN  1.279907e+06  \n",
      "75%        NaN      NaN      NaN      NaN  1.491033e+06  \n",
      "max        NaN      NaN      NaN      NaN  1.502534e+06  \n"
     ]
    }
   ],
   "source": [
    "print(df.info())\n",
    "print(df.describe())"
   ]
  },
  {
   "cell_type": "markdown",
   "metadata": {},
   "source": [
    "The variables 'thema_2' up to 'thema_6' only contain missing values, so these will be deleted."
   ]
  },
  {
   "cell_type": "code",
   "execution_count": 14,
   "metadata": {},
   "outputs": [],
   "source": [
    "df.drop(['thema_2', 'thema_3', 'thema_4', 'thema_5', 'thema_6'], axis=1, inplace=True)"
   ]
  },
  {
   "cell_type": "markdown",
   "metadata": {},
   "source": [
    "## Create column 'zittingsperiode'"
   ]
  },
  {
   "cell_type": "code",
   "execution_count": 16,
   "metadata": {},
   "outputs": [
    {
     "name": "stdout",
     "output_type": "stream",
     "text": [
      "zittingsjaar\n",
      "1995-1996    11\n",
      "1996-1997     8\n",
      "1997-1998     1\n",
      "1998-1999     4\n",
      "1999-2000     8\n",
      "2000-2001     5\n",
      "2001-2002     3\n",
      "2002-2003     4\n",
      "2003-2004     1\n",
      "2004-2005     5\n",
      "2005-2006    15\n",
      "2006-2007     6\n",
      "2007-2008    16\n",
      "2008-2009     9\n",
      "2009          1\n",
      "2009-2010    16\n",
      "2010-2011    10\n",
      "2011-2012    29\n",
      "2012-2013    28\n",
      "2013-2014    11\n",
      "2014          1\n",
      "2014-2015    41\n",
      "2015-2016    38\n",
      "2016-2017    36\n",
      "2017-2018    17\n",
      "2018-2019    15\n",
      "2019          1\n",
      "2019-2020    42\n",
      "2020-2021    44\n",
      "2021-2022    52\n",
      "2022-2023    25\n",
      "2023-2024     2\n",
      "BZ 1995       1\n",
      "Name: count, dtype: int64\n"
     ]
    }
   ],
   "source": [
    "# group by 'zittingsjaar' and count the occurrences\n",
    "yearly_distribution = df['zittingsjaar'].value_counts().sort_index()\n",
    "print(yearly_distribution)"
   ]
  },
  {
   "cell_type": "code",
   "execution_count": 17,
   "metadata": {},
   "outputs": [
    {
     "name": "stderr",
     "output_type": "stream",
     "text": [
      "C:\\Users\\yasem\\AppData\\Local\\Temp\\ipykernel_5140\\3062637072.py:1: FutureWarning: \n",
      "\n",
      "Passing `palette` without assigning `hue` is deprecated and will be removed in v0.14.0. Assign the `x` variable to `hue` and set `legend=False` for the same effect.\n",
      "\n",
      "  sns.barplot(x=yearly_distribution.index, y=yearly_distribution.values, palette='viridis')\n"
     ]
    },
    {
     "data": {
      "image/png": "[encoded data removed]",
      "text/plain": [
       "<Figure size 640x480 with 1 Axes>"
      ]
     },
     "metadata": {},
     "output_type": "display_data"
    }
   ],
   "source": [
    "sns.barplot(x=yearly_distribution.index, y=yearly_distribution.values, palette='viridis')\n",
    "\n",
    "# Customize the plot\n",
    "plt.title('Distribution of Parliamentary Questions by Year')\n",
    "plt.xlabel('Year')\n",
    "plt.ylabel('Number of Questions')\n",
    "plt.xticks(rotation=45)  # Rotate the x labels for better readability\n",
    "plt.show()"
   ]
  },
  {
   "cell_type": "code",
   "execution_count": 22,
   "metadata": {},
   "outputs": [],
   "source": [
    "# create a variable 'zittingsperiode' \n",
    "def map_zittingsperiode(zittingsjaar):\n",
    "    # Define the mapping based on the given ranges\n",
    "    if zittingsjaar in ['BZ 1995', '1995-1996', '1996-1997', '1997-1998', '1998-1999']:\n",
    "        return '1995-1999'\n",
    "    elif zittingsjaar in ['1999-2000', '2000-2001', '2001-2002', '2002-2003', '2003-2004']:\n",
    "        return '1999-2004'\n",
    "    elif zittingsjaar in ['2004-2005', '2005-2006', '2006-2007', '2007-2008', '2008-2009', '2009']:\n",
    "        return '2004-2009'\n",
    "    elif zittingsjaar in ['2009-2010', '2010-2011', '2011-2012', '2012-2013', '2013-2014', '2014']:\n",
    "        return '2009-2014'\n",
    "    elif zittingsjaar in ['2014-2015', '2015-2016', '2016-2017', '2017-2018', '2018-2019', '2019']:\n",
    "        return '2014-2019'\n",
    "    elif zittingsjaar in ['2019-2020', '2020-2021', '2021-2022', '2022-2023', '2023-2024']:\n",
    "        return '2019-2024'\n",
    "    else:\n",
    "        return 'Unknown'\n",
    "\n",
    "# Apply the function to create the new column\n",
    "df['zittingsperiode'] = df['zittingsjaar'].apply(map_zittingsperiode)"
   ]
  },
  {
   "cell_type": "code",
   "execution_count": null,
   "metadata": {},
   "outputs": [],
   "source": [
    "df.head(5)"
   ]
  },
  {
   "cell_type": "code",
   "execution_count": 24,
   "metadata": {},
   "outputs": [
    {
     "name": "stdout",
     "output_type": "stream",
     "text": [
      "zittingsperiode\n",
      "1995-1999     25\n",
      "1999-2004     21\n",
      "2004-2009     52\n",
      "2009-2014     95\n",
      "2014-2019    148\n",
      "2019-2024    165\n",
      "Name: count, dtype: int64\n"
     ]
    }
   ],
   "source": [
    "# group by 'zittingsperiode' and count the occurrences\n",
    "zittingsperiode_distribution = df['zittingsperiode'].value_counts().sort_index()\n",
    "print(zittingsperiode_distribution)"
   ]
  },
  {
   "cell_type": "code",
   "execution_count": 25,
   "metadata": {},
   "outputs": [
    {
     "name": "stderr",
     "output_type": "stream",
     "text": [
      "C:\\Users\\yasem\\AppData\\Local\\Temp\\ipykernel_5140\\3683571364.py:1: FutureWarning: \n",
      "\n",
      "Passing `palette` without assigning `hue` is deprecated and will be removed in v0.14.0. Assign the `x` variable to `hue` and set `legend=False` for the same effect.\n",
      "\n",
      "  sns.barplot(x=zittingsperiode_distribution.index, y=zittingsperiode_distribution.values, palette='viridis')\n"
     ]
    },
    {
     "data": {
      "image/png": "[encoded data removed]",
      "text/plain": [
       "<Figure size 640x480 with 1 Axes>"
      ]
     },
     "metadata": {},
     "output_type": "display_data"
    }
   ],
   "source": [
    "sns.barplot(x=zittingsperiode_distribution.index, y=zittingsperiode_distribution.values, palette='viridis')\n",
    "\n",
    "# Customize the plot\n",
    "plt.title('Distribution of Parliamentary Questions by Term')\n",
    "plt.xlabel('Term')\n",
    "plt.ylabel('Number of Questions')\n",
    "plt.xticks(rotation=45)  # Rotate the x labels for better readability\n",
    "plt.show()"
   ]
  },
  {
   "cell_type": "markdown",
   "metadata": {},
   "source": [
    "## Discovering how to split the 'text' value into question and answer"
   ]
  },
  {
   "cell_type": "code",
   "execution_count": 27,
   "metadata": {},
   "outputs": [],
   "source": [
    "# counting the amount of times 'antwoord' is in the text value to see if we can split it that way\n",
    "def count_antwoord(text):\n",
    "    return len(re.findall(r'\\bantwoord\\b', text, re.IGNORECASE))\n",
    "\n",
    "# create 'antwoord_count' column\n",
    "df['antwoord_count'] = df['text'].apply(count_antwoord)"
   ]
  },
  {
   "cell_type": "code",
   "execution_count": 28,
   "metadata": {},
   "outputs": [
    {
     "data": {
      "text/plain": [
       "count    506.000000\n",
       "mean       1.314229\n",
       "std        4.069456\n",
       "min        0.000000\n",
       "25%        1.000000\n",
       "50%        1.000000\n",
       "75%        2.000000\n",
       "max       90.000000\n",
       "Name: antwoord_count, dtype: float64"
      ]
     },
     "execution_count": 28,
     "metadata": {},
     "output_type": "execute_result"
    }
   ],
   "source": [
    "# distribution of antwoord_count\n",
    "df['antwoord_count'].describe()"
   ]
  },
  {
   "cell_type": "markdown",
   "metadata": {},
   "source": [
    "It seems like simply splitting based on 'antwoord' is not a good way, since many texts contain more than one time the word 'antwoord'. "
   ]
  },
  {
   "cell_type": "code",
   "execution_count": 31,
   "metadata": {},
   "outputs": [
    {
     "data": {
      "text/plain": [
       "142"
      ]
     },
     "execution_count": 31,
     "metadata": {},
     "output_type": "execute_result"
    }
   ],
   "source": [
    "# count instances where antwoord_count > 1\n",
    "count_higher_than_1 = (df['antwoord_count'] > 1).sum()\n",
    "count_higher_than_1"
   ]
  },
  {
   "cell_type": "markdown",
   "metadata": {},
   "source": [
    "142 questions contain more than once 'antwoord' in their text, so I can't simply split there."
   ]
  },
  {
   "cell_type": "code",
   "execution_count": 32,
   "metadata": {},
   "outputs": [
    {
     "name": "stdout",
     "output_type": "stream",
     "text": [
      "     id_fact  antwoord_count\n",
      "21    456603               3\n",
      "22    456602               4\n",
      "24    457103               2\n",
      "29    458291               2\n",
      "30    459686               2\n",
      "..       ...             ...\n",
      "495  1734138               2\n",
      "496  1734108               3\n",
      "497  1727930               2\n",
      "499  1722565               6\n",
      "500  1725052               2\n",
      "\n",
      "[142 rows x 2 columns]\n"
     ]
    }
   ],
   "source": [
    "# check instances where antwoord_count is greater than 1\n",
    "instances_with_higher_count = df[df['antwoord_count'] > 1]\n",
    "print(instances_with_higher_count[['id_fact', 'antwoord_count']])"
   ]
  },
  {
   "cell_type": "markdown",
   "metadata": {},
   "source": [
    "I will now manually go through some of these instances and check what other ways I can split the text."
   ]
  },
  {
   "cell_type": "code",
   "execution_count": 38,
   "metadata": {},
   "outputs": [
    {
     "name": "stdout",
     "output_type": "stream",
     "text": [
      "Vraag nr. 19 gesteund. Er is geen onderscheid in behandeling van 3 november 1998 tussen deze projecten en de overige activiteiten op van de heer FILIP DEWINTER het vlak van de aidspreventie. Holebi's ΓÇô Gezondheidsbeleid Binnen het departement Welzijn, Volksgezondheid en Cultuur is evenwel een werkgroep GelijkekanOp 7 oktober 1998 hield Vlaams minister van senbeleid actief waarbij ook medewerkers van de Gelijkekansenbeleid Brigitte Grouwels een toeadministratie Gezondheidszorg betrokken zijn. spraak op het congres van de Federatie WerkgroeE├⌐n van de doelgroepen hier zijn de holebi's. pen Homoseksualiteit (FWH). Hier verklaarde zij dat positieve beeldvorming, informatie en sensibili(Antwoord Brigitte Grouwels : blz. 911 ; antwoord sering essentieel zijn in haar beleid. Zij kondigde Luc Martens : Bulletin van Vragen en Antwoorden een sensibiliseringscampagne aan en pleitte voor nr. 5 van 18 december 1998, blz. 819 ΓÇô red.) een categoriale hulpverlening in de gezondheidsen welzijnszorg voor holebi's (homo's, lesbiennes en biseksuelen). Wat is het standpunt van de minister inzake specifieke gezondheidszorg voor holebi's ? Is zij van oordeel dat er een categoriale hulpverlening voor holebi's moet bestaan ? Waaruit moet die specifieke gezondheidszorg en categoriale hulpverlening bestaan ? Zal een eventuele aparte zorg voor holebi's een positieve discriminatie inhouden voor homo's en lesbiennes ? Werd de minister hierover al gecontacteerd door de ministers van Gelijkekansenbeleid en Welzijn ? Zo ja, wat zijn de resultaten van dit overleg ? N.B. Een vraag over deze problematiek werd ook gesteld aan de heer Luc Martens, Vlaams minister van Cultuur, Gezin en Welzijn en mevrouw Brigitte Grouwels, Vlaams minister van Brusselse Aangelegenheden en Gelijkekansenbeleid. Antwoord Binnen het kader van de preventieve gezondheidszorg is door de Vlaamse Gemeenschap gekozen voor algemene preventie. Het ondersteunen van acties die passen binnen algemene preventie heeft als effect dat ze een breder bereik hebben en risico's op stigmatisering vermijden. Een preventieve actie alleen gericht op een bepaalde groep kan op weerstand stuiten. Nochtans sluit een algemene benaderingswijze niet uit dat sommige gezondheidsbedreigende factoren (seksueel overdraagbare aandoeningen en aids) een aanvullende benadering vragen voor bepaalde doelgroepen. Momenteel worden reeds een aantal projecten die op het vlak van aidspreventie voor homo's en lesbiennes activiteiten ontwikkelen, financieel\n"
     ]
    }
   ],
   "source": [
    "# checking out the text value of some of these instances\n",
    "row = df[df['id_fact'] == 456603]\n",
    "print(row['text'].values[0])"
   ]
  },
  {
   "cell_type": "code",
   "execution_count": 39,
   "metadata": {},
   "outputs": [
    {
     "name": "stdout",
     "output_type": "stream",
     "text": [
      "Vraag nr. 10 Antwoord van 3 november 1998 van de heer FILIP DEWINTER 1. Er zal een serene mediacampagne worden gevoerd, gericht aan alle ouders. Via deze Holebi's ΓÇô Gelijkekansenbeleid mediacampagne zal een ruim publiek worden bereikt en kunnen we aan een mentaliteitswijziOp 7 oktober 1998 hield de minister een toespraak ging voor meer openheid en een grotere aanop het congres van de Federatie Werkgroepen vaarding van homoseksualiteit werken. Deze Homoseksualiteit (FWH). Hier verklaarde zij dat wijziging zal het thema ouders en homoseksupositieve beeldvorming, informatie en sensibilisealiteit ruimer bespreekbaar maken. ring essentieel zijn in haar beleid. Zij kondigde een sensibiliseringscampagne aan en pleitte voor een De sensibiliseringscampagne bevindt zich nog categoriale hulpverlening in de gezondheidsen steeds in de conceptfase. Er zijn nog geen besliswelzijnszorg voor holebi's (homo's, lesbiennes en singen over de kanalen en de media die zullen biseksuelen). worden gebruikt. Noch de kostprijs, noch de startdatum liggen vast. 1. Wat is de juiste inhoud van de sensibiliseringscampagne ? Via welke mediakanalen wordt 2. Met uitzondering van voornoemde campagne deze campagne gevoerd ? Wanneer gaat de zijn er geen plannen voor campagnes over de campagne van start en wat is de kostprijs ervan ? doelgroep holebi. Wel is het zo dat er via subsidies aan organisaties een bijdrage kan worden 2. Zijn er nog campagnes of specifieke projecten geleverd aan de positieve beeldvorming en gepland om de positieve beeldvorming en inforinformatie ten voordele van holebi's. matie ten voordele van holebi's te bewerkstelligen ? De toewijzing van subsidies voor dergelijke pro3. Wat is het standpunt van de minister inzake jecten hangt af van de ingediende aanvragen. specifieke gezondheidsen welzijnszorg voor holebi's ? Is zij van oordeel dat er een catego3. Voor het antwoord op deze vraag dient er te riale hulpverlening voor holebi's moet bestaan ? worden gewacht op het resultaat van het project Waaruit moet die specifieke welzijnsen Toegankelijkheid welzijnssector voor holegezondheidszorg en categoriale hulpverlening bi's , dat in samenwerking met de minister van bestaan ? Zal een eventuele aparte zorg voor Cultuur, Gezin en Welzijn Luc Martens werd holebi's een positieve discriminatie inhouden opgestart in 1998. voor homo's en lesbiennes ? Voor dit project wordt er gedurende ├⌐├⌐n jaar Heeft de minister hierover al contact opgenoeen bedrag van 4 miljoen beschikbaar gesteld, men met de ministers voor Gezondheidsbeleid gefinancierd door beide betrokken ministers. en Welzijn ? Zo ja, wat zijn de resultaten van dit overleg ? De doelstellingen van het project zijn : 4. Wat is de jaarlijkse kostprijs van de holebi-pagina's 762 en 763 op Teletekst ? ΓÇô een grotere toegankelijkheid van het algemeen welzijnswerk voor holebi's te bewerkstelligen in een decategoriserend perspectief ; 5. In de folder Homo's en lesbiennes in Vlaanderen, een uitgave van de Vlaamse minister van Gelijkekansenbeleid, wordt een pleidooi gehouΓÇô de openheid ten aanzien van de holebi-proden voor homoseksueel en lesbisch ouderschap blematiek in het algemeen welzijnswerk te en voor een wettelijke partnerregeling voor vergroten. homoseksuele en lesbische koppels. Het project is in de eerste plaats gericht tot de Staat de minister als CVP-minister achter deze autonome centra algemeen welzijnswerk en eisen ? Zo ja, waarom ? Zo neen, waarom niet ? Teleonthaal. Later kan eventueel worden overwogen om de bevindingen over te dragen naar N.B. Een vraag over deze problematiek werd ook de ingebouwde centra van de ziekenfondsen. gesteld aan mevrouw Wivina Demeester-De Meyer, Vlaams minister van Financi├½n, BegroUit dit project zullen beleidsaanbevelingen worting en Gezondheidsbeleid en de heer Luc den geformuleerd die onder andere een antMartens, Vlaams minister van Cultuur, Gezin woord op de vraag inhouden. en Welzijn. 4. De holebi-pagina's op Teletekst worden aangemaakt door de VZW Federatie Werkgroepen Homoseksualiteit. De kostprijs valt te hunnen laste. De subsidie van dit project bedroeg in 1997 2.150.000 frank en in 1998 2.050.000 frank. 5. In de brochure Homo's en lesbiennes in Vlaanderen wordt een overzicht gegeven van de thematiek rond de discriminatie van holebi's in onze samenleving. Er wordt informatie verschaft aan de leden van de doelgroep (o.a. adressen etc. ...) en voor ge├»nteresseerden wordt er informatie gegeven over de doelgroep. De brochure levert een belangrijke bijdrage aan de positieve beeldvorming en de opening van de maatschappelijke discussie over de discriminaties ten aanzien van de homo's en lesbiennes in Vlaanderen. In deze context kan er dan ook niet worden gesproken van een pleidooi voor homoseksueel en lesbisch ouderschap. Dit is slechts ├⌐├⌐n van de thema's die in de brochure worden beschreven, met het doel een ruimer publiek te sensibiliseren voor de maatschappelijke discussie. Het persoonlijk standpunt van de minister is hier dan ook niet terzake, maar het spreekt vanzelf dat in een samenleving die de mensenrechten respecteert er ten minste een behoorlijk debat moet worden gevoerd naar oplossingen in de jure of de facto discriminaties. (Antwoord Wivina Demeester-De Meyer : blz. 938 ; antwoord Luc Martens : Bulletin van Vragen en Antwoorden nr. 5 van 18 december 1998, blz. 819 ΓÇô red.)\n"
     ]
    }
   ],
   "source": [
    "row = df[df['id_fact'] == 456602]\n",
    "print(row['text'].values[0])"
   ]
  },
  {
   "cell_type": "code",
   "execution_count": 40,
   "metadata": {},
   "outputs": [
    {
     "name": "stdout",
     "output_type": "stream",
     "text": [
      "Vraag nr. 23 Antwoord van 19 februari 1999 van de heer FILIP DEWINTER Het geheel van de tentoonstelling wil een beeld geven van de diversiteit onder lesbische vrouwen. Lesbian ConneXion/s ΓÇô Subsidi├½ring De tentoonstelling laat iets zien van de leefstijl van lesbiennes, van hun dagelijks leven, hoe ze uitgaan Ik kwam in het bezit van een brief van Lesbian of aan sport doen, ... ConneXion/s van 12 december 1998 (zie bijlage). In dit schrijven stelt deze vereniging zich als volgt Het doel van dit project is aan te tonen dat maatvoor : Lesbian ConneXion/s is een internationaal schappelijke discriminatie ervoor zorgt dat lesbienreizende fototentoonstelling met als thema lesbines in onze samenleving niet zichtbaar zijn. Velen sche levens, leefstijlen en zichtbaarheid. Het geheel willen en/of durven niet zichtbaar zijn, waardoor wil een beeld geven van de diversiteit onder lesbihet weer gemakkelijker wordt om de discriminatie sche vrouwen. De tentoonstelling laat iets zien van van lesbiennes te minimaliseren of zelfs te ontkenhun dagelijks leven, fantasie├½n, hun relaties met nen. Als de maatschappij al een beeld heeft van kinderen, moeders, zussen, hun vriendschappen, lesbiennes, is er dat veelal een van manwijven en hun seksuele en erotische relaties . mannenhaatsters ... Met Lesbian ConneXion/s wil men de zichtbaarheid van lesbiennes en daarmee In de tweede paragraaf van de brief schrijft de auhun gevoel van eigenwaarde en zelfrespect verhoteur (blijkbaar de woordvoerster van de verenigen. ging), vervolgens : We hebben een principi├½le toeDoor beelden te tonen van de grote diversiteit die zegging voor subsidie van de Vlaamse minister van er bestaat in lesbische leven en leefstijlen, wordt er Gelijke Kansenbeleid, maar niet voor de volledige gehoopt het beeld van lesbiennes dat de doorbegroting . snee Vlaming op dit moment heeft, te verruimen. Met deze tentoonstelling wil men het stereotype 1. Is er inderdaad een principi├½le toezegging gedoorbreken en zo meewerken aan een mentalidaan voor subsidies voor deze reizende tenteitswijziging. Beelden en kunst in het algemeen toonstelling tot promotie van de lesbische leefzijn een heel belangrijke hefboom voor sensibilisewijze ? ring, omdat ze dingen visueel zichtbaar maken waar woorden tekortschieten. Zo ja, hoeveel bedraagt die subsidie ? Ik stel bovendien vast dat heel wat homoseksuele 2. Heeft de minister kennis van het juiste beeldjongeren gedurende vele jaren af te rekenen hebmateriaal dat tijdens de fototentoonstelling in ben met zelfaanvaardingsproblemen. OnderzoeksGent zal worden getoond ? cijfers tonen aan dat het aantal pogingen tot zelfdoding bij homoseksuele jongeren veel hoger ligt Heeft de minister bepaalde voorwaarden gedan bij heteroseksuele jongeren : bij lesbische koppeld aan de toezegging van de subsidies meisjes ligt het aantal vijfmaal hoger, bij homosek(zoals bijvoorbeeld het weren van foto's die in suele jongens dubbel zo hoog. Tentoonstellingen strijd zijn met de goede zeden) ? als deze werken dus in de eerste plaats emancipatorisch naar de doelgroep zelf. In het maatschappeWordt er eventueel een controle uitgevoerd om lijke leven (film, tijdschriften, kranten, tv, ...) zijn er de tentoonstelling te toetsen aan de maatschapnog altijd heel weinig beelden van lesbische vroupelijke zienswijze over homoseksualiteit ? wen. Om een positief zelfbeeld van lesbiennes te kunnen ontwikkelen, is het belangrijk dat er voor3. Op welke wijze past deze tentoonstelling in de beeld zijn waarmee vrouwen zich kunnen identifipositieve beeldvorming en de opening van de ceren. Als overheid moeten wij ons bekommeren maatschappelijke discussie over de discriminaover hun welzijn. ties ten aanzien van homo's en lesbiennes in Vlaanderen (zie antwoord van de minister op Om al deze redenen is deze tentoonstelling zeker mijn schriftelijke vraag nr. 10 van 3 november geen promotie en pleidooi voor de lesbische 1998 ; Bulletin van Vragen en Antwoorden nr. 6 levenswijze, zoals ten onrechte wordt gevreesd. Ievan 15 januari 1999, blz. 911) ? mand is lesbisch of niet. Je kan niet iemand bekeren tot een lesbienne. Als het zo eenvoudig was 4. Is deze tentoonstelling geen duidelijke promotie dat je kon kiezen of je homoseksueel bent of niet, en pleidooi voor de lesbische levenswijze ? waarom zouden jongeren het zich dan zo moeilijk maken ? Waarom zouden ze het zich zo moeilijk maken om dag na dag te vechten om met hun anders zijn als volwaardig lid van de maatschappij te worden aanvaard ? Er wordt getracht om zo open mogelijk met homoseksualiteit om te gaan en de discriminaties op te heffen jegens homoseksuelen. Deze tentoonstelling wordt gesubsidieerd voor een bedrag van 639.920 frank. De tentoonstelling opende in Amsterdam tijdens de Gay Olympics in augustus 1998. Met de tentoonstelling in Gent zal het de tweede maal zijn dat Lesbian ConneXion/s aan het publiek wordt voorgesteld. In Gent wordt ook nieuw beeldmateriaal getoond. Dit vormt trouwens ├⌐├⌐n van de basiselementen van het project : namelijk dat de tentoonstelling aangroeit per land waar ze wordt vertoond. Op die manier zal de culturele diversiteit van deze doelgroep nog beter tot uiting komen. Lesbian ConneXion/s werd in Amsterdam geopend door vooraanstaande burgers. Ook in Vlaanderen wordt de tentoonstelling gepresenteerd in de Gentse Sint-Pietersabdij, en niet in een of ander obscuur dorpsgalerijtje. Het betreft hier immers artistieke prestaties, waaraan in het besluit geen inhoudelijke voorwaarden werden gekoppeld. We hebben het volste vertrouwen in de organisatoren. Ikzelf werd uitgenodigd om de tentoonstelling in Gent te openen, maar door agendaproblemen heb ik dat jammer genoeg niet kunnen doen. De administratie volgt het project op en zal zich een oordeel vormen over de effectiviteit ervan. (Bovenvermelde bijlage ligt ter inzage bij het Algemeen Secretariaat van het Vlaams Parlement, dienst Schriftelijke Vragen ΓÇô red.)\n"
     ]
    }
   ],
   "source": [
    "row = df[df['id_fact'] == 457103]\n",
    "print(row['text'].values[0])"
   ]
  },
  {
   "cell_type": "code",
   "execution_count": 41,
   "metadata": {},
   "outputs": [
    {
     "name": "stdout",
     "output_type": "stream",
     "text": [
      "Vraag nr. 71 van 21 januari 2000 van de heer FILIP DEWINTER Educatieve werkmap holebi's ΓÇô Uitgangspunten Zie : Vlaams minister van Onderwijs en Vorming Vraag nr. 49 van 21 januari 2000 van de heer Filip Dewinter Blz. 816 Antwoord Een geco├╢rdineerd antwoord zal worden verstrekt door mevrouw Marleen Vanderpoorten, Vlaams minister van Onderwijs en Vorming.\n"
     ]
    }
   ],
   "source": [
    "row = df[df['id_fact'] == 458291]\n",
    "print(row['text'].values[0])"
   ]
  },
  {
   "cell_type": "code",
   "execution_count": 43,
   "metadata": {},
   "outputs": [
    {
     "name": "stdout",
     "output_type": "stream",
     "text": [
      "SCHRIFTELIJKE VRAAG nr. 246 van NADIA SMINATE datum: 27 maart 2023 aan BART SOMERS VICEMINISTER-PRESIDENT VAN DE VLAAMSE REGERING, VLAAMS MINISTER VAN BINNENLANDS BESTUUR, BESTUURSZAKEN, INBURGERING EN GELIJKE KANSEN Vlaamse overheid Invulling neutraliteitsprincipe (2) Ik verwijs graag naar mijn eerdere schriftelijke vraag nr. 183 van 9 februari 2023. Bij gebrek aan een duidelijk antwoord op mijn zeer concrete vragen wens ik graag opnieuw volgende elementen te bevragen. Op dit ogenblik moet inzake neutraliteit rekening worden gehouden met de huidige deontologische code voor de personeelsleden van de Vlaamse overheid (Omzendbrief BZ 2011/6 van 6 juli 2011). De huidige deontologische code bepaalt over neutraliteit het volgende: ΓÇ£Het gelijkheidsbeginsel vormt een centraal element in de opdracht van de Vlaamse administratie: klanten en leveranciers hebben het recht om in gelijke gevallen op dezelfde manier te worden behandeld. Daarom moeten personeelsleden op ieder moment hun objectiviteit bewaren, en hun functie op een onbevangen en neutrale wijze uitoefenen. Dat betekent dat u in de omgang met interne en externe klanten uw persoonlijke voorkeuren niet laat meespelen. U streeft ernaar om elke schijn van partijdigheid te voorkomen.ΓÇ¥ Het toezicht op de naleving van de deontologische code, met inbegrip van de neutraliteitsplicht, is in de eerste plaats de verantwoordelijkheid van de leidinggevenden. De leidend ambtenaar beslist dus hoe neutraliteit binnen het departement of agentschap wordt toegepast. Dat heeft tot gevolg dat de neutraliteitsplicht uiteindelijk inhoudelijk kan verschillen tussen verschillende departementen en diensten bij de Vlaamse overheid en laat een relatief brede interpretatieruimte bij de leidend ambtenaren. 1. Kan de minister aangeven op welke manier de neutraliteitsplicht, ingeschreven in de deontologische code van de Vlaamse overheid, wordt toegepast in de overheidsagentschappen en beleidsdepartementen die onder zijn/haar bevoegdheid ressorteren? Gelieve een exhaustief antwoord te bezorgen per beleidsdepartement of bevoegd agentschap met toelichting bij de redenen die de concrete toepassing in het betrokken departement en agentschap onderbouwen. Gelieve eveneens een aanvullende of specifieke deontologische code per departement of agentschap toe te voegen aan het antwoord, indien van toepassing. Gelieve eveneens het arbeidsreglement per departement of agentschap toe te voegen bij het antwoord. a) Kan een ambtenaar of werknemer, werkzaam voor de overheidsagentschappen en/of beleidsdepartementen die onder de bevoegdheid van de minister vallen, tekenen van politieke voorkeur duidelijk zichtbaar dragen? Zo ja, onder welke omstandigheden kan dat en binnen welk kader? b) Kan een ambtenaar of werknemer, werkzaam voor de overheidsagentschappen en/of beleidsdepartementen die onder de bevoegdheid van de minister vallen, uiterlijke religieuze of levensbeschouwelijke tekens (hoofddoek, keppel,ΓÇª) dragen? Zo ja, onder welke omstandigheden kan dat en binnen welk kader? c) Kan een ambtenaar of werknemer, werkzaam voor de overheidsagentschappen en/of beleidsdepartementen die onder de bevoegdheid van de minister vallen, uiterlijke symbolen of klederdracht dragen die refereren aan de regenbooggemeenschap? Zo ja, onder welke omstandigheden kan dat en binnen welk kader? 2. Op welke manier wordt dit neutraliteitsprincipe door de leidend ambtenaren concreet toegepast en gehandhaafd en hoe verzorgt de minister als beleidsverantwoordelijke het finaal toezicht op de genomen beslissing ter zake? Gelieve eveneens alle adviezen van de dienst Diversiteitsbeleid (die adviezen bezorgt t.a.v. de leidend ambtenaar) van het betrokken departement of agentschap toe te voegen bij het antwoord. Deze vraag werd gesteld aan de ministers Jan Jambon (215), Hilde Crevits (532), Bart Somers (246), Ben Weyts (463), Zuhal Demir (617), Matthias Diependaele (293), Lydia Peeters (1049), Benjamin Dalle (112), Jo Brouns (499) BART SOMERS VICEMINISTER-PRESIDENT VAN DE VLAAMSE REGERING, VLAAMS MINISTER VAN BINNENLANDS BESTUUR, BESTUURSZAKEN, INBURGERING EN GELIJKE KANSEN GECO├ûRDINEERD ANTWOORD op vraag nr. 246 van 27 maart 2023 van NADIA SMINATE 1. De deontologische code voor de personeelsleden van de Vlaamse overheid (Omzendbrief BZ 2011/6 van 6 juli 2011) bepaalt inzake het neutraal en objectief handelen het volgende ΓÇ£Het gelijkheidsbeginsel vormt een centraal element in de opdracht van de Vlaamse administratie: klanten en leveranciers hebben het recht om in gelijke gevallen op dezelfde manier te worden behandeld. Daarom moeten personeelsleden op ieder moment hun objectiviteit bewaren, en hun functie op een onbevangen en neutrale wijze uitoefenen. Dat betekent dat u in de omgang met interne en externe klanten uw persoonlijke voorkeuren niet laat meespelen. U streeft ernaar om elke schijn van partijdigheid te voorkomen.ΓÇ¥. Ook non-discriminatie is, verwijzend naar het decreet Vlaams Gelijke kansenen gelijke behandelingsbeleid van 10 juli 2008, een basisprincipe van de deontologische code: ΓÇ£Iedere vorm van discriminatie is uit den boze. U laat zich bij de uitoefening van uw functie niet be├»nvloeden door filosofische, politieke of religieuze overtuigingen, door seksuele geaardheid, geslacht, ras of herkomst.ΓÇ¥. De deontologische code is van toepassing op de volgende entiteiten waarvan de Vlaamse Regering het statuut vaststelt en waarvan de aangelegenheden met betrekking tot het algemeen personeelsbeleid behartigd worden door de Vlaamse minister van Bestuurszaken: de departementen de IVAΓÇÖs zonder rechtspersoonlijkheid met uitzondering van de leden van de Onderwijsinspectie de IVAΓÇÖs met rechtspersoonlijkheid de publiekrechtelijk vormgegeven EVA's, met uitzondering van De Lijn (VVM) het secretariaatspersoneel van de strategische adviesraden, met uitzondering van de Sociaal-Economische Raad van Vlaanderen (SERV), de Strategische Adviesraad voor het Vlaamse Welzijns-, Gezondheidsen Gezinsbeleid (SAWGG) en de Mobiliteitsraad van Vlaanderen (MORA) de administratieve diensten van de Raad van het Gemeenschapsonderwijs de gouverneurs de arrondissementscommissarissen De leidend ambtenaar en het leidinggevend personeel zijn verantwoordelijk voor de correcte toepassing en naleving van de principes van de deontologische code binnen hun entiteit. Entiteiten hebben wel de mogelijkheid om voor specifieke situaties aanvullende regels te voorzien, zoals een entiteitsspecifieke neutraliteitsverplichting, in een entiteitspecifieke code of het eigen arbeidsreglement. Die specifieke codes en reglementen blijven gelden op voorwaarde dat ze niet in strijd zijn met de principes opgenomen in de deontologische code van 6 juli 2011. Geen enkele entiteit van de Vlaamse overheid beschikt, bovenop de huidige neutraliteitsregeling in de deontologische code van 6 juli 2011, over een aanvullende regeling opgenomen in de entiteitsspecifieke code of het arbeidsreglement aangaande: het duidelijk zichtbaar dragen van politieke, religieuze of levensbeschouwelijke tekens. uiterlijke symbolen of klederdracht die refereren aan de regenbooggemeenschap. Een volledig overzicht van de arbeidsreglementen van de Vlaamse entiteiten is beschikbaar via volgende website: https://www.vlaanderen.be/informatie-voor-hrprofessionals/regelgeving-0. Volledigheidshalve geef ik mee dat er buiten het kader van de entiteitsspecifieke deontologische code en het arbeidsreglement het management van het Openbaar Psychiatrisch Zorgcentrum Rekem en het Agentschap Facilitair Bedrijf een specifieke neutraliteitsregeling hebben ingevoerd voor hun personeel waarbij het dragen van uiterlijke tekens van religieuze of levensbeschouwelijke aard niet toegelaten is bij rechtstreeks contact met het publiek. 2. De leidend ambtenaar en het leidinggevend personeel zijn verantwoordelijk voor de correcte toepassing en naleving van de deontologische code binnen hun entiteit. De toepassing en handhaving van de deontologische code kadert binnen een ruimer beleid waarbij de diverse integriteitsen diversiteitsactoren leidinggevenden en andere personeelsleden adviseren en ondersteunen op vlak van preventie, sensibilisering, controle en handhaving. Leidinggevenden en andere personeelsleden kunnen hierbij ook rekenen op een ruim aanbod aan opleidingen en inspiratiesessies zoals dilemmatrainingen. Voor wat betreft de handhaving kan de leidinggevende in het uiterste geval ook gebruik maken van de tuchtregeling. Daarnaast heeft het agentschap Audit Vlaanderen de bevoegdheid om forensische audits uit te voeren bij de Vlaamse overheid indien ze meldingen ontvangt van bepaalde schendingen van de deontologische code. Bijkomend voorziet het Bestuursdecreet sinds kort in een vernieuwde klokkenluidersprocedure voor het melden van inbreuken. De dienst Diversiteitsbeleid van de Vlaamse overheid die ressorteert onder de Vlaamse Diversiteitsambtenaar heeft geen adviezen gegeven inzake neutraliteit, buiten het louter informeren omtrent de principes van de deontologische code en de mogelijkheid voor entiteiten om een specifieke deontologische code te hanteren.\n"
     ]
    }
   ],
   "source": [
    "row = df[df['id_fact'] == 1722565]\n",
    "print(row['text'].values[0])"
   ]
  },
  {
   "cell_type": "markdown",
   "metadata": {},
   "source": [
    "It seems like some questions contain 'ANTWOORD' to indicate the start of the answer, whereas other questions contain the word 'Antwoord' that indicates the start of the answer. These are distinct from the word 'antwoord' which could be mentioned in the text as part of the written question. Let's check it out."
   ]
  },
  {
   "cell_type": "code",
   "execution_count": 46,
   "metadata": {},
   "outputs": [
    {
     "name": "stdout",
     "output_type": "stream",
     "text": [
      "   id_fact                                               text  \\\n",
      "0   449734  Vraag nr. 22 van 4 september 1995 van de heer ...   \n",
      "1   450728  Vraag nr. 136 vrouwen KUL van 2 april 1996 Cul...   \n",
      "2   450737  Vraag nr. 155 vrouwen KUL van 2 april 1996 Cul...   \n",
      "3   450739  Vraag nr. 38 vrouwen KUL van 2 april 1996 Cult...   \n",
      "4   450741  Vraag nr. 110 vrouwen KUL van 2 april 1996 Cul...   \n",
      "\n",
      "   Antwoord_ANTWOORD_count  \n",
      "0                        1  \n",
      "1                        0  \n",
      "2                        0  \n",
      "3                        0  \n",
      "4                        0  \n"
     ]
    }
   ],
   "source": [
    "# counting how many times ANTWOORD or Antwoord occurs in the text value\n",
    "def count_antwoord_antwoord(text):\n",
    "    matches = re.findall(r'\\b(?:ANTWOORD|Antwoord)\\b', text)\n",
    "    return len(matches)\n",
    "\n",
    "# new variable 'Antwoord_ANTWOORD_count'\n",
    "df['Antwoord_ANTWOORD_count'] = df['text'].apply(count_antwoord_antwoord)\n",
    "print(df[['id_fact', 'text', 'Antwoord_ANTWOORD_count']].head())"
   ]
  },
  {
   "cell_type": "markdown",
   "metadata": {},
   "source": [
    "If this count is exactly 1, for those instances I can simply split it at ANTWOORD or Antwoord. If this count is 0, I need to figure out which other word or phrase I can use to split the text. If this count is greater than 1, I need to check and find another way as well."
   ]
  },
  {
   "cell_type": "code",
   "execution_count": 47,
   "metadata": {},
   "outputs": [
    {
     "name": "stdout",
     "output_type": "stream",
     "text": [
      "Number of instances with Antwoord_ANTWOORD_count > 1: 3\n",
      "Number of instances with Antwoord_ANTWOORD_count == 0: 157\n"
     ]
    }
   ],
   "source": [
    "# count instances where Antwoord_ANTWOORD_count > 1 or equal to 0\n",
    "count_greater_than_1 = (df['Antwoord_ANTWOORD_count'] > 1).sum()\n",
    "count_equal_to_0 = (df['Antwoord_ANTWOORD_count'] == 0).sum()\n",
    "\n",
    "print(f'Number of instances with Antwoord_ANTWOORD_count > 1: {count_greater_than_1}')\n",
    "print(f'Number of instances with Antwoord_ANTWOORD_count == 0: {count_equal_to_0}')\n"
   ]
  },
  {
   "cell_type": "markdown",
   "metadata": {},
   "source": [
    "There are only 3 instances with an occurrence of greater than 1, which means I can just take a look at those 3 texts and manually split the texts. However, there are 157 instances with an occurrence count of 0, which means I cannot just use Antwoord or ANTWOORD. I need to check how else I can split those texts, since I cannot do it manually for such a higher number of texts.\n",
    "\n",
    "To check this out, I need the id_fact values so I can look at their 'text' value. "
   ]
  },
  {
   "cell_type": "code",
   "execution_count": 48,
   "metadata": {},
   "outputs": [
    {
     "name": "stdout",
     "output_type": "stream",
     "text": [
      "\n",
      "Instances with Antwoord_ANTWOORD_count > 1:\n",
      "    id_fact  Antwoord_ANTWOORD_count\n",
      "21   456603                        2\n",
      "22   456602                        2\n",
      "49   467363                       43\n",
      "\n",
      "Instances with Antwoord_ANTWOORD_count == 0:\n",
      "     id_fact  Antwoord_ANTWOORD_count\n",
      "1     450728                        0\n",
      "2     450737                        0\n",
      "3     450739                        0\n",
      "4     450741                        0\n",
      "5     450731                        0\n",
      "..       ...                      ...\n",
      "187   883756                        0\n",
      "188   920554                        0\n",
      "189   912086                        0\n",
      "190   909119                        0\n",
      "191   907464                        0\n",
      "\n",
      "[157 rows x 2 columns]\n"
     ]
    }
   ],
   "source": [
    "# find instances where Antwoord_ANTWOORD_count is > 1 or equal to 0\n",
    "instances_greater_than_1 = df[df['Antwoord_ANTWOORD_count'] > 1]\n",
    "instances_equal_to_0 = df[df['Antwoord_ANTWOORD_count'] == 0]\n",
    "\n",
    "print('\\nInstances with Antwoord_ANTWOORD_count > 1:')\n",
    "print(instances_greater_than_1[['id_fact', 'Antwoord_ANTWOORD_count']])\n",
    "\n",
    "print('\\nInstances with Antwoord_ANTWOORD_count == 0:')\n",
    "print(instances_equal_to_0[['id_fact', 'Antwoord_ANTWOORD_count']])\n"
   ]
  },
  {
   "cell_type": "markdown",
   "metadata": {},
   "source": [
    "For these instances, I will manually look at some and try to figure out how to split the texts."
   ]
  },
  {
   "cell_type": "code",
   "execution_count": 52,
   "metadata": {},
   "outputs": [
    {
     "name": "stdout",
     "output_type": "stream",
     "text": [
      "Vraag nr. 136 vrouwen KUL van 2 april 1996 Cultuurverandering en etDepartement Sociale en van mevrouw RIET VAN CLEUVENBERGEN niciteit bij Turkse jonge Culturele Antropologie ΓÇô vrouwen in Brussel en KUL Gelijke-kansenbeleid mannen/vrouwen ΓÇô Evaluatie Emirdag (Turkije) In 1993 besliste de Vlaamse regering een beleid van Vrouwen en beslissingen Afdeling Fundamentele en gelijke kansen voor mannen en vrouwen te voeren. Comparatieve Pedagogie ΓÇô KUL 1. Welke onderzoeksprojecten of acties werden door diensten die onder de bevoegdheid van de ministerOnderzoeksnetwerk naar Welzijnsplanning ΓÇô Deparpresident vallen, in het kader van deze beleidsopties vrouwelijke arbeidskrachtement Politieke en Soten ciale Wetenschappen ΓÇô op het getouw gezet ? UIA 2. Hoe werden deze onderzoeksprojecten ge├½valueerd De participatie van vrouDepartement Derde Ween opgevolgd ? wen in de nationale ontwikreld ΓÇô Ufsia 3. Is er zichtbaar resultaat geboekt (bijvoorbeeld keling ΓÇô la participation des meer vrouwen/mannen aangeworven, stijging femmes au developpement aantal vrouwen/mannen in hogere functies) ? national 4. Worden er nog onderzoeksprojecten of acties Armoede en kansenongeAfdeling Theoretischevoorbereid ? Zo ja, welke en voor wanneer ? lijkheid in het onderwijs en Onderwijssociologie ΓÇô KUL N.B. : Deze vraag werd gesteld aan alle ministers. Empirisch-toetsend onderAfdeling Strafrecht, Strafzoek naar de invloed van vordering en Criminologie Geco├╢rdineerd antwoord van minister-president het vrouw-zijn op de beΓÇô KUL Luc Van den Brande sluitvorming van de rechter Repertorium van periodieAfdeling Nieuwste Tijd ΓÇô Vraag 1 + 2 ken voor de geschiedenis KUL van de vrouw en de vroua) M.b.t. de bevoegdheden inzake wetenschapsbeleid wenbeweging in Belgi├½, volgt hierna een overzicht van onderzoeksprojecten 1830-1993 van het NFWO (Nationaal Fonds voor WetenschapIntegratie van de gelijkeAfdeling Politologie ΓÇô pelijk Onderzoek) en de IWETO (Inventaris van het kansenplannen in de openKUL Wetenschappelijk en Technologisch Onderzoek in bare besturen op federaal en Vlaanderen) die verband houden met de gevraagde regionaal niveau materie. Integratie van de gelijkeAfdeling Bestuur en OverTitel Instelling kansenplannen in de openheidsmanagement ΓÇô KUL Sociale recrutering, studieOnderwijseenheid Rechtsbare besturen en carri├¿reverloop van theorie en RechtsgeschieHet effect van arbeidsherWelzijnsplanning ΓÇô UIA vrouwelijke VUB-afgedenis ΓÇô VUB verdeling op de positie van studeerden vrouwen op de arbeidsmarkt : sociaal-wetenschapSociale recrutering, studieSectie Geschiedenis ΓÇô pelijke en sociaal-juridische en carri├¿reverloop van VUB analyse van de (effecten vrouwelijke VUB-afgestuvan) transities in deerden De ouder wordende vrouw. Centrum voor BevolkingsRechtspositie van de vrouw Centrum voor Sociaal Een uitdaging en Gezinstudi├½n ΓÇô ministein het sociaal zekerheidsZekerheidsrecht ΓÇô VUB rie van de Vlaamse recht Gemeenschap Vrouw en emancipatie in Centrum voor Vrouwen-de Technisch geschoolde Pedagogiek ΓÇô Universiteit Vlaamse Gemeenschap, projecten ΓÇô KUB een stand vrouwen in technische Gent. van zaken, functies 1985-1990 Zwangere documentloze Departement Sociale en Interen intragenerationele Genetische en Sociale vrouwen in Brussel Culturele Antropologie ΓÇô relaties bij bejaarde Psychologie ΓÇô VUB KUL weduwen Vrouwenarbeid en gelegenCentrum Leo Apostel ΓÇô Interen intragenerationele Genetische en Sociale heidsprostitutie in cenVUB relaties bij bejaarde Psychologie ΓÇô VUB traalen Oost-Afrikaanse vrouwen steden De structuur van de pedaCentrum voor MethodoloSubsidies Extern Centrum Onderwijseenheid Rechtsgogische relatie in het gezin. gie van het Empirisch voor Vrouwenstudies. theorie en RechtsgeschieEen onderzoek bij Vlaamse Pedagogisch Onderzoek ΓÇô denis ΓÇô VUB Deze projecten zijn ingediend op vraag van de voranalyse op programmaals op projectniveau versers zelf. Systematisch onderzoek op initiatief van de richt. Vlaamse overheid door de diensten Wetenschapsbeleid is tot op heden niet gebeurd. Alle proDoordat de Communautaire Initiatieven innovajecten worden tijdens het verloop ervan regelmatig tieve initiatieven zijn, kunnen we moeilijk sprege├½valueerd. ken in termen van effectieve resultaten inzake het bevorderen van gelijke kansen. b) In de administratie van de Vlaamse Gemeenschap De NOW-projecten zijn experimenten. Tijdens de en de Vlaamse openbare instellingen zijn ├⌐├⌐n projectduur wordt in de eerste plaats het opdrachthoudster voor emancipatiezaken en 22 intermediair doelpubliek opgeleid. Pas in tweede emancipatieambtenaren belast met de opmaak en de instantie wordt in een soort testfase ook het finale uitvoering van positieve-actieplannen ter bevordering doelpubliek opgeleid. van gelijke kansen voor mannen en vrouwen. De acties die in dit kader worden ondernomen, zijn De evaluatieopdracht op projectniveau werd als vooral gesitueerd op de volgende terreinen : vorming, volgt vertaald. kinderopvang, sensibilisering, ongewenst seksueel Op de eerste plaats werd gekozen voor een progedrag op het werk, evenredige vertegenwoordiging. cesbenadering. Er werd dan ook veel aandacht Tevens wordt er jaarlijks een cijfermatige analyse besteed aan de dynamiek en ontwikkelingen in de gemaakt, vervat in een algemeen voortgangsrapport uitvoeringsprocessen van projecten. Op de tweede inzake emancipatiebeleid binnen de administraties plaats werd een participatieve benadering van de Vlaamse Gemeenschap. gehanteerd. Centraal in de evaluatie stonden een tweetal diepte-interviews die bij alle Er zijn geen onderzoeksprojecten. projectverantwoordelijken zijn afgenomen. Deze mondelinge bevraging werd nog aangevuld met De acties worden doorgaans goed ge├½valueerd. De een schriftelijke, waarin ook andere projecopvolging gebeurt door middel van jaarlijkse positactoren zoals opleiders, begeleiders en deelnetieve-actieplannen, samengebundeld in een jaarlijks mers hun visie op het project konden geven. Voor voortgangsrapport. het programma NOW konden de volgende vaststellingen worden gemaakt. c) Vanuit de bevoegdheden inzake Tewerkstelling en Er waren twaalf projecten onder NOW goedgeVorming wordt verwezen naar de Europese Comkeurd. missie die in 1990, op het terrein van de CommuHet blijken vooral organisaties met institutionele nautaire Initiatieven rond Menselijke Hulpbronnen, karakteristieken te zijn die verantwoordelijk zijn het programma NOW heeft gelanceerd. Dit initiatief voor de uitvoering binnen NOW. liep tot eind 1994. Opmerkelijk in de opbouw van NOW is dat de projecten in meerderheid niet expliciet veran1. Ter bevordering van gelijke kansen voor vroukerd zijn in organisaties met een specifieke wen en mannen had de Europese Commissie dus opdracht of doelstelling naar vrouwen. Hierdoor een Communautair Initiatief opgezet, namelijk hebben de meeste projecten een additionele NOW (New Opportunities for Women). De functie naar de organisatie. belangrijkste bijdrage van NOW bestond in het tot stand brengen van innovatieve, transnationale De projecten waren : acties. Via de installatie van netwerken ter verspreiding van ervaringen, hebben de promoΓÇô Wonen & Werken met het project Leren toren de beschikking gekregen over nieuwe proondernemen ; gramma's, methodologie├½n en infrastructuren die ΓÇô Centre for Research on European Women op grote schaal kunnen worden gebruikt. (CREW) met het project Europees opleidingsproject in telematica en telecommunicaIn het programma was er ruimte gelaten om te tie ; experimenteren. Er werd een omgeving geboden ΓÇô VDAB (Vlaamse Dienst voor Arbeidsbeom te innoveren op het domein van de beroepsmiddeling en Beroepsopleiding) met het proopleiding. ject Common Action for Recruitement and Education (CARE) ; Van de in die periode uitgevoerde projecten ΓÇô ACW (Algemeen Christelijk Werknemerswerden en worden door verschillende organisaties verbond) met het CDi-project ; evaluaties uitgevoerd. Een van die evaluaties, de ΓÇô Vlaams Centrum voor de Integratie van ex-post evaluatie, werd in opdracht van het Comit├⌐ Migranten (VCIM) met het project How van Toezicht, dat formeel de verantwoordelijkheid Now ? Know-How ; draagt voor de opvolging van het Vlaams Operationeel Programma, uitgevoerd door het ΓÇô Kind en Gezin met het project Opleiding ECWS (Europees Centrum voor Werk en medewerker kinderopvang ; Samenleving). ΓÇô Febeltex met het project Vrouwen leren omgaan met de nieuwe technologie├½n in de Aan het einde van de looptijd van de Commutextielindustrie ; nautaire Initiatieven dienden de resultaten en ΓÇô Protheus met het project La Renaissance ΓÇô produkten van het programma en de projecten Bibliotheeken documentbeheer voor vrouge├»nventariseerd te worden. Er werd zowel een wen met een handicap ; ΓÇô Centrum voor Vorming van het Aanvullend ΓÇô VBJK (Vormingscentrum Begeleiding van Nationaal Paritair Comit├⌐ voor Bedienden het Jonge Kind) met het project MEQ (Cevora) met het project Autoverkoopsters ; (Milestone through equality towards qualiΓÇô VDAB met het project Terugkeercursus voor ty) ; verzorgenden ; ΓÇô VCKZ (Vlaams Centrum voor Kwaliteitszorg) ΓÇô Strategisch Plan Kempen en KIKO (Kempense met het project European Quality IniInitiatieven voor Kinderopvang) met het tiative ; project Uitbreiding kinderopvangmogeΓÇô Cevora met de projecten Automobile en lijkheden ; Infograficus . ΓÇô Buurt en Samenleving met het project Vrouw Volgende promotor heeft een project lopen onder en Werk . de maatregel C, de ondersteuning van het scheppen van werkgelegenheid : In het compendium van de Communautaire Initiatieven zijn van al deze projecten een inhoudeΓÇô Instituut voor KMO (kleine en middelgrote lijke samenvatting en het eindresultaat terug te ondernemingen) West-Vlaanderen met het vinden. project Research Action Production . De Commissie was van oordeel dat het NOW3. In het kader van doelstelling 3 van het Europees initiatief (1991-1994) nieuwe wegen heeft openSociaal Fonds, met name de opleidingsen gesteld voor het rechtvaardiger mee laten wegen tewerkstellingsinitiatieven voor werkzoekenden, van vrouwenbelangen door alle structuurfondvormen de vrouwen een van de vier prioritaire sen. Daarom werd het NOW-initiatief voortgezet doelgroepen, naast de met langdurige werkloosen nog versterkt. heid bedreigden, de jongeren, de met uitsluiting van de arbeidsmarkt bedreigden. De bedoeling 2. Het Communautair Initiatief Werkgelegenheid van dit programma is de integratie van werkzoe(1994-1999) ondersteunt projecten voor mensen kenden die het moeilijk hebben op de arbeidsdie specifieke moeilijkheden ondervinden bij hun markt, te bevorderen. intrede op de arbeidsmarkt. Werkgelegenheid bestaat uit drie deelinitiatieven, elk gericht op een De financi├½le verdeling over deze prioritaire bepaalde doelgroep. doelgroepen is door de Vlaamse regering vastgelegd in september 1994. Hierbij worden onder Het deelinitiatief NOW (New Opportunities for zwaartepunt 4, met name de integratie van vrouWomen) heeft tot doel gelijke kansen op werk wen op de arbeidsmarkt, ongeveer 15 miljoen Ecu voor vrouwen te bevorderen, met name via uitgetrokken voor acties specifiek gericht op maatregelen op het gebied van opleiding en vervrouwen, op een totaal van 185 miljoen Ecu voor gemakkelijking van de toegang tot toekomstgede periode 1994-1999. richte en leidende functies. Het weze evenwel duidelijk dat ook onder de In 1995 werden 14 projecten onder dit deelinitiaandere zwaartepunten vrouwen aan bod kunnen tief in Vlaanderen goedgekeurd. Deze projecten komen. Aangezien het tussentijds rapport in het startten de tweede helft van 1995 en hebben een kader van de lopende evaluatie slechts medio looptijd van twee jaar. 1996 wordt verwacht, kan er over de evaluatie van deze initiatieven nu nog geen uitspraak worGezien de veelzijdigheid van de problematiek den gedaan. werd in het operationeel programma geopteerd voor een ge├»ntegreerde aanpak, waarbij zowel 4. Naast de initiatieven vanuit de Europese prosysteem-, opleidings-, tewerkstellingsals inforgramma's, zijn er ook de specifieke onderzoeksmatiemaatregelen aan bod komen. projecten die de gelijke-kansenproblematiek op de arbeidsmarkt nader onderzocht hebben. In het Twee projecten hebben als doelstelling het ontkader van Viona (Vlaams Interuniversitair wikkelen van systemen voor opleiding, beroepsOnderzoeksnetwerk Arbeidsrapportering), het keuzevoorlichting en -adviezen en diensten voor strategisch arbeidsmarktonderzoek voor Vlaanarbeidsbemiddeling en horen dus thuis onder deren, heeft er in 1995 een specifiek onderzoeksmaatregel A. Het gaat om VIZO (Vlaams Instiproject gelopen naar het effect van arbeidshertuut voor het Zelfstandig Ondernemen) met het verdeling op de positie van vrouwen op de project Women Business Training en VCIM arbeidsmarkt. Het onderzoek werd uitgevoerd (Vlaams Centrum voor de Integratie van door professor T. Jacobs van het Centrum voor Migranten) met het project Medusa . Vrouwenstudies van de UIA en betrof een sociaal-wetenschappelijk en sociaal-juridische analyAcht promotoren stellen hun project onder se van de effecten van transacties in werkcarri├¿maatregel B, het bieden van opleiding en res. De resultaten van dit onderzoek werden uitarbeidsbemiddeling : voerig besproken op een intern seminarie van de Stuurgroep Strategisch Arbeidsmarktonderzoek. ΓÇô VDAB met de projecten Telemaque en Qualifying by doing ; Een van de voornaamste conclusies was dat ΓÇô VIA (Vervolmakingsinstituut voor Industri├½le en mannen meer dan vrouwen gestimuleerd moeten Technische Applicaties) met het project worden om in te treden in arbeidsherverde-lende Enterprise Communication ; stelsels. In het kader van het Vlaams ΓÇô Lenteleven met het project Anna-Marta ; Werkgelegenheidsakkoord werd door de Vlaamse sociale partners en de betrokken Gemeenschap en van de Vlaamse openbare Vlaamse ministers op 26 maart jongstleden op instellingen). twee wijzen ingespeeld op deze problematiek. Om mannen meer te stimuleren tot loopbaanon2. Onderzoek over de evaluatie van vijf jaar emanderbreking is er overeengekomen om het precipatiebeleid in het ministerie van de Vlaamse miestelsel bij loopbaanonderbreking uit te breiden Gemeenschap. Dit project is gestart op 15 april en tot de gefragmenteerde loopbaanonderbreking. eindigt op 31 augustus 1996. De opdracht werd Dit betekent dat nu ook bij een loopbaantoegewezen aan het European Centre for Work onderbreking van 33 %, 25 % en 20 % de and Society. Vlaamse overheid een premie zal toekennen. Daarnaast is er overeengekomen om aan de hui3. Onderzoek naar een algemeen maatschappelijke dige redenen voor het in aanmerking komen voor stand van zaken met betrekking tot de vrouweneen premie bij loopbaanonderbreking ook het problematiek. Dit kortlopend onderzoek wordt Europese co-ouderschap toe te voegen, teneinde afgesloten op 30 april 1996. Het geeft aan welke de mannen meer mogelijkheden te bieden in het de relevante domeinen zijn om het Vlaamse licht van de opvoeding van de kinderen. gelijke-kansenbeleid te intensifi├½ren of van start te gaan met nieuwe projecten. De resultaten van dit onderzoek zullen worden getoetst aan een d) Vlaams Instituut voor het Zelfstandig Ondernemen enqu├¬te die in verschillende leeftijdscategorie├½n ΓÇô VIZO zal worden gehouden. Het resultaat wordt in de loop van 1996 verwacht. De opdracht voor de Alle VIZO-opleidingen staan open zowel voor studie is gegeven aan het documentatiecentrum vrouwen als voor mannen. RoSa (Rol & Samenleving). Voor de enqu├¬te is nog geen opdracht gegeven. Bij de geslaagden in de leertijd treft men 1/3 meisjes (30 %) aan tegen 2/3 (70 %) jongens. 4. Kortlopend onderzoek naar een stand van zaken in de migrantenwerking door het HIVA (Hoger In de ondernemersopleidingen zijn 60 % van de Instituut voor de Arbeid). Dit onderzoek is geslaagden mannelijke cursisten, tegen 40 % vrouinmiddels afgerond. Ook dit onderzoek geeft geen welijke cursisten. Deze 60/40 verhouding is vooral inventaris weer van bestaande initiatieven, maar te wijten aan het grote aantal vrouwelijke cursisten richt zich op nieuwe probleemstellingen. Is de bij de intellectuele dienstverlenende beroepen situatie door aanpassing van federale wetten en (degelijk managementsniveau en dus in die zin door het Vlaamse migrantenbeleid daadwerkelijk emancipatorisch te noemen), en uiteraard ook het veranderd en wat vergt de huidige maatgrote aantal vrouwelijke cursisten bij de beroepen schappelijke stand van zaken aan beleid ? in de branche van de personenverzorging (traditioneel vrouwelijk). 5. Kortlopend onderzoek naar een algemene stand van zaken met betrekking tot lesbische vrouwen e) Sociaal-Economische Raad van Vlaanderen ΓÇô en homoseksuele mannen. Het is de eerste keer SERV dat er in Vlaanderen een overzicht wordt opgemaakt van dit maatschappelijk veld. Het gaat om Vanuit de Vlaamse Overlegcommissie Vrouwen is er deels gelijklopende problematieken, deels om uiteraard permanente aandacht voor het gelijkedivergente thema's. De studie over homokansenbeleid van de Vlaamse regering. Zeer recenseksuele mannen is uitgevoerd door de FWH telijk is er een studie gepubliceerd door de Vlaamse (Federatie Werkgroepen Homoseksualiteit) in Overlegcommissie Vrouwen waarin een statistisch samenwerking met dr. Dimitri Devuyst, en de overzicht wordt verstrekt over de positie van studie over lesbische vrouwen is uitgevoerd door Vrouwen in Vlaanderen . de FWH in samenwerking met RoSa. De onderzoeksresultaten worden in ├⌐├⌐n bundel samen Ook in de adviezen en de aanbevelingen van de gepresenteerd. Vlaamse Overlegcommissie Vrouwen wordt steeds uitvoerig aandacht besteed aan de problematiek van 6. Kortlopend onderzoek naar de stand van zaken in de gelijke kansen van mannen en vrouwen in Vlaande gehandicaptenwerking aan de hand van de 21 deren, getuige hiervan het laatste advies van de Standaardregels betreffende het bieden van Vlaamse Overlegcommissie Vrouwen van 2 mei gelijke kansen voor gehandicapten van de Ver1996 over de beleidsnota van minister Anne Van enigde Naties, die internationaal richtinggevend Asbroeck met betrekking tot gelijke-kansenbeleid. zijn en die ook door Belgi├½ werden aangenomen. De studie, uitgevoerd door het HIVA, is inmiddels afgerond. De bedoeling was ook weer f) Vanuit de bevoegdheden van het Gelijke-Kansenom te komen tot beleidsrelevante conclusies. beleid zijn er in 1996 tot nu toe zes onderzoeksprojecten opgezet. Daarnaast zijn er de volgende acties. 1. Onderzoek naar ongewenst seksueel gedrag op 1. Bij de vorming van de nieuwe Vlaamse regering het werk, als onderdeel van een consultancyin 1995 is er voor het eerst een Vlaams minister opdracht aan de VZW OSGW-Consultancy. voor het Gelijke-Kansenbeleid aangewezen. Deze opdracht startte op 1 februari en eindigt op 31 augustus 1996. De opdracht loopt over de 2. Op 10 oktober 1995 besliste de Vlaamse regering diensten van de Vlaamse regering (dit is alle een Interdepartementale Commissie voor het ambtenaren van het ministerie van de Vlaamse Gelijke-Kansenbeleid op te richten, en een administratieve cel binnen het departement In de beleidsbrief Het wetenschapsen technoloCo├╢rdinatie, om het Gelijke-Kansenbeleid van giebeleid in Vlaanderen wordt het gelijke-kansende minister te ondersteunen. De administratieve beleid aandacht gegeven, aangezien dit een nieuwe cel startte haar werkzaamheden op 1 januari bevoegdheid is van de Vlaamse regering. In dit kader 1996 (├⌐├⌐n persoon). Momenteel wordt de Interzullen er vooreerst geannoteerde bibliografie├½n departementale Commissie Gelijke-Kansenbeworden aangelegd van relevant wetenschappelijk leid samengesteld. De vooropgestelde startdatum onderzoek dat al gevoerd is, rond vier prioritaire voor haar werkzaamheden is juni 1996. doelgroepen (vrouwen, migranten, homo's en lesbiennes, gehandicapten). 3. Een sensibiliseringscampagne ongewenst seksueel gedrag op het werk voor alle Vlaamse ambEr zal een Vlaams Steunpunt Vrouwenen Mindertenaren startte op 14 februari 1996 (waarvan het heidsstudies worden opgericht dat het interdisciplinair onder punt f) vernoemde OSGW-onderzoek een en interuniversitair onderzoek rond de vier onderdeel is). De OSGW-campagne wordt doelgroepen moet co├╢rdineren. Tevens is er opgevolgd via maandelijkse vergaderingen met beleidsvoorbereidend onderzoek gepland over de een begeleidingsgroep en de evaluatieopdracht van beeldvorming van deze doelgroepen in de media. Er is het emancipatiebeleid door een stuurgroep, en zal ook ruimte gelaten voor onderzoek dat wordt uiteindelijk leiden tot een profiel voor de aangedragen door het georganiseerde middenveld. aanstelling van een nieuwe opdrachthoud(st)er Emancipatiezaken en de formulering van knelDe voorbereiding tot de oprichting van het Vlaams punten bij het voeren van een emancipatiebeleid in Steunpunt is volop aan de gang. het ministerie van de Vlaamse Gemeenschap. Aangezien er bij de recente uitwerking van de De resultaten van de drie laatstgenoemde bevoegdheid Gelijke-Kansenbeleid een cel en een onderzoeken onder punt f) zullen nog de eerste Interdepartementale Commissie voor het Gelijkehelft van dit jaar worden getoetst aan de maatKansenbeleid opgericht zijn, kunnen we stellen dat schappelijke realiteit door middel van contacter voor het gelijke-kansenbeleid nog heel wat prosessies, hearings zo men wil, met de betrokken jecten op stapel staan, maar dat die zich nog voordoelgroepen. De Vlaamse minister van Gelijkenamelijk in de conceptuele of voorbereidende fase Kansenbeleid met haar kabinet bezoekt de bevinden. eerstkomende maanden een uitgebreid staal van doelgroepen in geheel Vlaanderen. Aan de Er worden projecten en onderzoeken verwacht eens betrokkenen zullen ter bespreking de resultaten het Vlaams Steunpunt Vrouwenen Minderheidsvan de verschillende onderzoeken worden voorstudies operationeel zal zijn. gelegd. Hieruit zullen er verdere beleidsopties worden gedistilleerd. b) Er wordt een evaluatieonderzoek gepland met betrekking tot vijf jaar emancipatiebeleid in de Vraag 3 administratie door ECWS. Het resultaat dat onderzoeksprojecten geven heeft De acties die zowel in de administratie als in de onmiskenbaar invloed bij het uittekenen van beleidslijnen. Vlaamse openbare instellingen gepland zijn voor Het blijft echter moeilijk om dit echt zichtbaar weer te 1996, liggen in de lijn van de planning van de voorgeven daar hiervoor geen meetbare parameters ter bije jaren. beschikking zijn. c) Voor de verdere onderzoeksprojecten in het kader van Voor de personeelsbeweging binnen het ministerie van de Viona, bereidt de Stuurgroep Strategisch Vlaamse Gemeenschap is er in 1995, behalve een lichte Arbeidsmarktonderzoek momenteel een advies voor toename van het aantal vrouwen op niveau A in over de prioriteiten voor arbeidsmarktonderzoek voor vergelijking met 1994, geen opmerkelijke verschuiving de periode 1996-1999. Het lijkt aangewezen om bij dit vast te stellen in de numerieke vrouw/man-verhouding in advies ook rekening te houden met het reeds vroeger de administratie van de Vlaamse Gemeenschap. opgestelde advies van de Vlaamse Overlegcommissie Mede door de doorstroom werden in 1995 in de admiVrouwen van de SERV inzake prioritaire nistratie van de Vlaamse Gemeenschap de afdelingsarbeidsmarktonderzoeksvoorstellen. Het is de hoofden benoemd, waarvan 14 % vrouwen. Tevens bedoeling deze prioriteitenstelling tegen het einde van werden vijf directeurs-generaal benoemd, waaronder ├⌐├⌐n de maand mei 1996 af te ronden. vrouw. De VDAB heeft in uitvoering van het Vlaams Voor de instroom kunnen ingevolge de selectieve werWerkgelegenheidsakkoord van 1993 een actieplan vingsstop weinig betekenisvolle inschuivingen worden uitgewerkt voor de vrouwen op de arbeidsmarkt. verwacht. Hiertoe werd door het beheerscomit├⌐ begin 1994 een Meerjarenplan ter verbetering van de positie van de Wat het VIZO betreft, is er een vrij groot aantal vrouvrouw op de arbeidsmarkt goedgekeurd. Dit plan welijke geslaagden in de ondernemersopleiding voor de omvat volgende doelstellingen : dienstverlenende intellectuele beroepen (zie vraag 2). ΓÇô het bevorderen van de deelname van vrouwen aan Vraag 4 roldoorbrekende opleidingen ; a) Bij het NFWO (Nationaal Fonds voor het WetenΓÇô specifieke aandacht besteden aan de deelname van schappelijk Onderzoek) zijn er voor de oproep, de vrouwen aan nieuwe opleidingsprojecten ; periode 1996-1997, geen projecten ingediend. ΓÇô het ontwikkelen van vrouwgerichte acties ; ΓÇô aandacht besteden aan evenredige doorverwijTot slot heeft het ministerie van Tewerkstelling en zing van mannelijke en vrouwelijke werkzoeArbeid twee projecten lopen onder maatregel D, de kenden ; verspreiding van informatie en bewustmakingsacΓÇô het organiseren van drempelverlagende initiatieties, namelijk Tremplin en Optima . ven inzake kinderopvang en mobiliteit ; ΓÇô het organiseren van acties ten aanzien van Deze projecten worden door de ondersteuningsVDAB-medewerkers ; structuur van Werkgelegenheid ondersteund en ΓÇô het nemen van acties gericht op werkgevers ; opgevolgd. ΓÇô het zoeken van aansluiting bij gelijkaardige projecten bij derden in het kader van netwerkvorVooraleer deze projectvoorstellen werden ming. goedgekeurd, werd een grondige analyse gemaakt van alle aanvragen. De mate waarin de Medio 1995 werd de balans opgemaakt van een projecten bijdragen tot de invulling van de jaar vrouwen-actieplan. Volgende acties werden maatregelen was daarbij een belangrijk er prioritair in het kader van dit actieplan criterium. ondernomen door de STD's (subregionale tewerkstellingsdien-sten) : Nadat de 14 NOW-projecten werden ΓÇô roldoorbrekende opleidingen met aandacht voor goedgekeurd stopte de ondersteuning niet. De deelname van vrouwen : informatica-bouw, promotoren konden rekenen op ondersteuning taxichauffeur, metaal, onderhoudsarbeider, hefen begeleiding tijdens de opstartfase. In maart truckchauffeur, ... ; en april heeft de ondersteuningsstructuur alle ΓÇô bevordering van deelname van vrouwen in nieuprojectco├╢rdinatoren een interview afgenomen, we opleidingen door de extra opvolging en extra waarbij samen werd bekeken of de uitvoering begeleiding van vrouwelijke cursisten ; van de projectdoelstellingen volgens plan verloopt. ΓÇô het opzetten van een aantal vrouwgerichte acties zoals specifieke infosessies, opmaak van Verder werd er in het kader van de evaluatiebrochures en ander promotiemateriaal ; activiteiten op programmaniveau gestart met ΓÇô promotie van beroepsopleiding in combinatie met themavergaderingen. Deze themaclustering kinderopvang-acties ; heeft als doelstelling nauwe samenwerking ΓÇô promotie van individuele beroepsopleidingen tussen de promotoren te stimuleren. voor vrouwen bij werkgevers ; Samenwerking tussen promotoren van ΓÇô acties naar VDAB-werknemers : informatie voor vergelijkbare of complementaire projecten kan bemiddelaars en begeleidingsconsulenten immers een belangrijke meerwaarde bieden : de aangaande het vrouwen-actieplan. netwerking in Vlaanderen wordt bevorderd, de Naast de regionale acties werden er ook op centraal uitwisseling van informatie, kennis en ervaring niveau een aantal acties ondernomen : wordt gestimuleerd en de kwaliteit van de innovatieve component van de projecten wordt ΓÇô opleiding assertiviteit voor vrouwen in rolbevorderd. doorbrekende beroepen ; ΓÇô aanmaak van promotiemateriaal voor vrouwen in d) De Vlaamse minister van Binnenlandse roldoorbrekende beroepen ; Aangelegenheden heeft besloten in het kader ΓÇô deelname aan een Europees project gelijke van de toekenning van toelagen voor kansen ; initiatieven inzake de vorming van lokale ΓÇô deelname aan een aantal diversificatieprojecten ambtenaren, bijzonder aandacht te besteden in het kader van het beroepsen technisch aan het gelijke-kansenbeleid, en een gedeelte onderwijs. van het goedgekeurde krediet hiervoor te reserveren. Daarbij kan er worden gesteld dat, naast deze zeer specifieke acties, vrijwel het gehele tewerkstellingse) In het kader van de Vlaamse beleid van de Vlaamse regering gericht is op de Werkgelegenheidsconferentie werd door het problematiek van de langdurig werklozen. De VIZO een project ingediend dat voorziet in de vrouwen maken, spijtig genoeg, nog steeds het opleiding en begeleiding van herintredende grootste gedeelte uit van de groep UVW vrouwen en van werkloze vrouwen met geringe (uitkeringsgerechtigde volledig werklozen), met beroepskwalificaties. De opleiding voorziet in name 60,8 % (einde april 1996). In 1990 bedroeg een volwaardige dagopleiding en een het aandeel van de vrouwen in de werkloosheid nog bijkomende stage van minimum vier maanden 65 %. Het aandeel van de vrouwen in de in een bedrijf of een aanvullende werkloosheid loopt bijgevolg terug. praktijkopleiding. De cursisten die zich hierna daadwerkelijk zullen vestigen als zelfstandige BUSA (Buurt en Samenleving) ΓÇô EVA (Emancipaworden uiteraard daarna afzonderlijk begeleid tie Via Arbeid) heeft het project Mira en CMBV door de VIZO-bedrijfsbegeleiding. (Christelijke Beweging voor Vrouwen uit de Middengroepen) het project Women in Business .\n"
     ]
    }
   ],
   "source": [
    "row = df[df['id_fact'] == 450728]\n",
    "print(row['text'].values[0])"
   ]
  },
  {
   "cell_type": "code",
   "execution_count": 50,
   "metadata": {},
   "outputs": [],
   "source": [
    "# This row will be deleted since it is the Bulletin of questions and answers (88 pages of text)\n",
    "df.drop(df[df['id_fact'] == 467363].index, inplace=True)"
   ]
  },
  {
   "cell_type": "code",
   "execution_count": 54,
   "metadata": {},
   "outputs": [],
   "source": [
    "df = pd.DataFrame(df)"
   ]
  },
  {
   "cell_type": "code",
   "execution_count": 57,
   "metadata": {},
   "outputs": [
    {
     "name": "stdout",
     "output_type": "stream",
     "text": [
      "Index(['id_fact', 'zittingsjaar', 'naam_vragensteller',\n",
      "       'voornaam_vragensteller', 'id_vragensteller', 'bevraagde_minister_naam',\n",
      "       'bevraagde_minister_voornaam', 'bevraagde_minister_id',\n",
      "       'publicatiedatum', 'text', 'title', 'thema_1', 'voornaam', 'achternaam',\n",
      "       'geslacht', 'geboortedatum', 'party_id', 'party_naam',\n",
      "       'zittingsperiode', 'antwoord_count', 'Antwoord_ANTWOORD_count'],\n",
      "      dtype='object')\n"
     ]
    }
   ],
   "source": [
    "# quickly checking out the columns again\n",
    "print(df.columns)"
   ]
  },
  {
   "cell_type": "code",
   "execution_count": 58,
   "metadata": {},
   "outputs": [],
   "source": [
    "# new variable 'check' based on some conditions\n",
    "df['check'] = df.apply(lambda row: 1 if row['Antwoord_ANTWOORD_count'] == 1 else (1 if row['antwoord_count'] == 1 else 0), axis=1)\n"
   ]
  },
  {
   "cell_type": "code",
   "execution_count": 60,
   "metadata": {},
   "outputs": [
    {
     "data": {
      "text/plain": [
       "check\n",
       "1    374\n",
       "0    131\n",
       "Name: count, dtype: int64"
      ]
     },
     "execution_count": 60,
     "metadata": {},
     "output_type": "execute_result"
    }
   ],
   "source": [
    "# check the unique values and their distribution for 'check' variable\n",
    "check_counts = df['check'].value_counts()\n",
    "check_counts"
   ]
  },
  {
   "cell_type": "markdown",
   "metadata": {},
   "source": [
    "This basically means that there are 374 texts that I can split based on 'ANTWOORD', 'Antwoord' or 'antwoord', but 131 texts that I cannot split like that. "
   ]
  },
  {
   "cell_type": "markdown",
   "metadata": {},
   "source": [
    "I will now check from which terms those 131 questions come from. Maybe there is some relationship there and are the older questions differently documented.  "
   ]
  },
  {
   "cell_type": "code",
   "execution_count": 62,
   "metadata": {},
   "outputs": [
    {
     "name": "stdout",
     "output_type": "stream",
     "text": [
      "Unique values and their counts for 'zittingsperiode' where check = 0:\n",
      "zittingsperiode\n",
      "2009-2014    82\n",
      "2004-2009    43\n",
      "1995-1999     4\n",
      "1999-2004     2\n",
      "Name: count, dtype: int64\n"
     ]
    }
   ],
   "source": [
    "# checking out if the term period (zittingsperiode) has something to do with those 131 texts\n",
    "zittingsperiode_check_0 = df.loc[df['check'] == 0, 'zittingsperiode']\n",
    "unique_zittingsperiode = zittingsperiode_check_0.value_counts()\n",
    "print(\"Unique values and their counts for 'zittingsperiode' where check = 0:\")\n",
    "print(unique_zittingsperiode)"
   ]
  },
  {
   "cell_type": "code",
   "execution_count": 65,
   "metadata": {},
   "outputs": [],
   "source": [
    "# look at rows where 'check' = 0 and zittingsperiode = 2004-2009 or 2009-2014\n",
    "id_fact_check_0 = df.loc[(df['check'] == 0) & (df['zittingsperiode'].isin(['2004-2009', '2009-2014'])), 'id_fact']"
   ]
  },
  {
   "cell_type": "code",
   "execution_count": 66,
   "metadata": {},
   "outputs": [
    {
     "data": {
      "text/plain": [
       "51     422646\n",
       "52     479273\n",
       "53     477322\n",
       "54     477152\n",
       "55     477151\n",
       "        ...  \n",
       "186    888580\n",
       "187    883756\n",
       "188    920554\n",
       "189    912086\n",
       "191    907464\n",
       "Name: id_fact, Length: 125, dtype: int64"
      ]
     },
     "execution_count": 66,
     "metadata": {},
     "output_type": "execute_result"
    }
   ],
   "source": [
    "id_fact_check_0"
   ]
  },
  {
   "cell_type": "markdown",
   "metadata": {},
   "source": [
    "Again, manually checking the texts from these instances to see what's going on."
   ]
  },
  {
   "cell_type": "code",
   "execution_count": 69,
   "metadata": {},
   "outputs": [
    {
     "name": "stdout",
     "output_type": "stream",
     "text": [
      "  vlaams parlement  ? SCHRIFTELIJKE VRAGEN      pascal smet  vlaams minister van onderwijs, jeugd, gelijke kansen en brussel      Vraag nr. 237  van 7 januari 2014  van ann brusseel        Verticaal gelijkekansenbeleid   -   Subsidies    Het verticaal  gelijkekansenbeleid  werkt  rond  de  beleidsthema's  gender,  mensen met een handicap, seksuele identiteit, integrale toegankelijkheid  en  etnisch-culturele diversiteit.    De begroting laat echter niet toe om na  te  gaan  hoeveel  middelen  worden  besteed per  thema  aangezien  heel  wat  basisallocaties  gemeenschappelijk  zijn.    Ik verwijs naar mijn eerdere schriftelijke vragen  (nr.  44  van  7  oktober  2011 en nr. 190 van 7 januari 2013) over hetzelfde thema.    Hoeveel  bedragen  de  structurele  subsidies  en  de  projectsubsidies  per  beleidsthema  (gender,  mensen  met  een  handicap,   seksuele   identiteit,  integrale toegankelijkheid en etnisch-culturele  diversiteit)  en  dit  voor  het  begrotingsjaar 2013?                \n"
     ]
    }
   ],
   "source": [
    "row = df[df['id_fact'] == 907464]\n",
    "print(row['text'].values[0])"
   ]
  },
  {
   "cell_type": "markdown",
   "metadata": {},
   "source": [
    "I figured out that, for these instances, there is no answer recorded so the text value is ONLY the written question. This means, for these instances, no splitting is needed. I will now create a variable that determines the location (word or phrase) in the text where the split between question and answer should be done."
   ]
  },
  {
   "cell_type": "code",
   "execution_count": 70,
   "metadata": {},
   "outputs": [],
   "source": [
    "def determine_split_location(text):\n",
    "    count_ANTWOORD = text.count('ANTWOORD')\n",
    "    count_Antwoord = text.count('Antwoord')\n",
    "    count_antwoord = text.count('antwoord')\n",
    "    \n",
    "    if count_ANTWOORD == 1:\n",
    "        return 'ANTWOORD'\n",
    "    elif count_Antwoord == 1:\n",
    "        return 'Antwoord'\n",
    "    elif count_antwoord == 1:\n",
    "        return 'antwoord'\n",
    "    else:\n",
    "        return 'no split' # for the instances that don't contain antwoord, ANTWOORD, or Antwoord just once\n",
    "\n",
    "df['split_location'] = df['text'].apply(determine_split_location)\n"
   ]
  },
  {
   "cell_type": "code",
   "execution_count": 71,
   "metadata": {},
   "outputs": [
    {
     "data": {
      "text/plain": [
       "split_location\n",
       "ANTWOORD    314\n",
       "no split    119\n",
       "antwoord     37\n",
       "Antwoord     35\n",
       "Name: count, dtype: int64"
      ]
     },
     "execution_count": 71,
     "metadata": {},
     "output_type": "execute_result"
    }
   ],
   "source": [
    "splits = df['split_location'].value_counts()\n",
    "splits"
   ]
  },
  {
   "cell_type": "markdown",
   "metadata": {},
   "source": [
    "I will now check out, for a certain time period, how many questions there are, because all of these questions have the same layout and shouldn't be splitted. "
   ]
  },
  {
   "cell_type": "code",
   "execution_count": 72,
   "metadata": {},
   "outputs": [],
   "source": [
    "# date range\n",
    "start_date = '2006-01-10'\n",
    "end_date = '2014-05-23'\n",
    "\n",
    "# filtering the df based on those dates\n",
    "filtered_df = df[(df['publicatiedatum'] >= start_date) & (df['publicatiedatum'] <= end_date)]\n",
    "instance_count = filtered_df.shape[0]"
   ]
  },
  {
   "cell_type": "code",
   "execution_count": 73,
   "metadata": {},
   "outputs": [
    {
     "data": {
      "text/plain": [
       "141"
      ]
     },
     "execution_count": 73,
     "metadata": {},
     "output_type": "execute_result"
    }
   ],
   "source": [
    "instance_count"
   ]
  },
  {
   "cell_type": "markdown",
   "metadata": {},
   "source": [
    "This means there should be exactly 141 instances that shouldn't be splitted. However, in my 'split_location' variable, there were only 119, which means something went wrong. Let's fix that.\n",
    "\n",
    "We will change the 'split_location' value to 'no split' for all of those instances, because it is possible that for some of those texts, 'antwoord' occurs once but in the written question, not to indicate that the answer starts there."
   ]
  },
  {
   "cell_type": "code",
   "execution_count": 82,
   "metadata": {},
   "outputs": [
    {
     "name": "stdout",
     "output_type": "stream",
     "text": [
      "Updated DataFrame:\n",
      "     id_fact zittingsjaar naam_vragensteller voornaam_vragensteller  \\\n",
      "0     449734      BZ 1995           Dewinter                  Filip   \n",
      "9     452087    1996-1997  Van Nieuwenhuysen                    Luk   \n",
      "10    451535    1995-1996  Van Nieuwenhuysen                    Luk   \n",
      "11    451240    1995-1996             Dillen                Marijke   \n",
      "12    450798    1995-1996           Dewinter                  Filip   \n",
      "..       ...          ...                ...                    ...   \n",
      "501  1714426    2022-2023            Sminate                  Nadia   \n",
      "502  1711732    2022-2023              Saeys                  Freya   \n",
      "503  1774502    2023-2024           Perdaens                  Freya   \n",
      "504  1771914    2023-2024               Ampe                    Els   \n",
      "505  1762780    2022-2023         Groothedde                  Celia   \n",
      "\n",
      "     id_vragensteller bevraagde_minister_naam bevraagde_minister_voornaam  \\\n",
      "0                1803         Van den Bossche                         Luc   \n",
      "9                1907              Van Rompuy                        Eric   \n",
      "10               1907            Van Asbroeck                        Anne   \n",
      "11               1805            Van Asbroeck                        Anne   \n",
      "12               1803            Van Asbroeck                        Anne   \n",
      "..                ...                     ...                         ...   \n",
      "501              4089                  Somers                        Bart   \n",
      "502              4086                 Crevits                       Hilde   \n",
      "503              4405                   Weyts                         Ben   \n",
      "504              4382                   Weyts                         Ben   \n",
      "505              4398                   Weyts                         Ben   \n",
      "\n",
      "     bevraagde_minister_id publicatiedatum  \\\n",
      "0                     1890      1995-10-11   \n",
      "9                     1912      1996-12-12   \n",
      "10                    1886      1996-10-08   \n",
      "11                    1886      1996-07-26   \n",
      "12                    1886      1996-07-04   \n",
      "..                     ...             ...   \n",
      "501                   2773      2023-04-25   \n",
      "502                   2789      2023-04-25   \n",
      "503                   4104      2023-12-21   \n",
      "504                   4104      2023-12-14   \n",
      "505                   4104      2023-11-10   \n",
      "\n",
      "                                                  text  ...  \\\n",
      "0    Vraag nr. 22 van 4 september 1995 van de heer ...  ...   \n",
      "9    Vraag nr. 30 Indien besloten wordt een bepaald...  ...   \n",
      "10   Vraag nr. 42 aan de balies van de Vlaamse Geme...  ...   \n",
      "11   Vraag nr. 33 gehandicapten. Een Interdeparteme...  ...   \n",
      "12   Vraag nr. 24 van 23 april 1996 van de heer FIL...  ...   \n",
      "..                                                 ...  ...   \n",
      "501  SCHRIFTELIJKE VRAAG nr. 223 van NADIA SMINATE ...  ...   \n",
      "502  SCHRIFTELIJKE VRAAG nr. 450 van FREYA SAEYS da...  ...   \n",
      "503  SCHRIFTELIJKE VRAAG nr. 81 van FREYA PERDAENS ...  ...   \n",
      "504  SCHRIFTELIJKE VRAAG nr. 63 van ELS AMPE datum:...  ...   \n",
      "505  SCHRIFTELIJKE VRAAG nr. 917 van CELIA GROOTHED...  ...   \n",
      "\n",
      "            achternaam geslacht geboortedatum party_id      party_naam  \\\n",
      "0             Dewinter        M    1962-09-10  1279900   Vlaams Belang   \n",
      "9    Van Nieuwenhuysen        M    1952-07-15  1491028   Vlaams Belang   \n",
      "10   Van Nieuwenhuysen        M    1952-07-15  1491028   Vlaams Belang   \n",
      "11              Dillen        V    1960-12-10  1491023   Vlaams Belang   \n",
      "12            Dewinter        M    1962-09-10  1279900   Vlaams Belang   \n",
      "..                 ...      ...           ...      ...             ...   \n",
      "501            Sminate        V    1981-12-28  1279896            N-VA   \n",
      "502              Saeys        V    1984-01-30  1279901        Open Vld   \n",
      "503           Perdaens        V    1989-01-28  1279896            N-VA   \n",
      "504               Ampe        V    1979-01-17       -1  Onafhankelijke   \n",
      "505         Groothedde        V    1977-09-25  1279907           Groen   \n",
      "\n",
      "    zittingsperiode  antwoord_count Antwoord_ANTWOORD_count check  \\\n",
      "0         1995-1999               1                       1     1   \n",
      "9         1995-1999               0                       0     0   \n",
      "10        1995-1999               1                       1     1   \n",
      "11        1995-1999               0                       0     0   \n",
      "12        1995-1999               1                       1     1   \n",
      "..              ...             ...                     ...   ...   \n",
      "501       2019-2024               1                       1     1   \n",
      "502       2019-2024               1                       1     1   \n",
      "503       2019-2024               1                       1     1   \n",
      "504       2019-2024               1                       1     1   \n",
      "505       2019-2024               1                       1     1   \n",
      "\n",
      "     split_location  \n",
      "0          Antwoord  \n",
      "9          Antwoord  \n",
      "10         Antwoord  \n",
      "11         Antwoord  \n",
      "12         Antwoord  \n",
      "..              ...  \n",
      "501        ANTWOORD  \n",
      "502        ANTWOORD  \n",
      "503        ANTWOORD  \n",
      "504        ANTWOORD  \n",
      "505        ANTWOORD  \n",
      "\n",
      "[492 rows x 23 columns]\n",
      "\n",
      "Distribution of 'split_location' values:\n",
      "split_location\n",
      "ANTWOORD    314\n",
      "no split    141\n",
      "Antwoord     35\n",
      "antwoord      2\n",
      "Name: count, dtype: int64\n"
     ]
    }
   ],
   "source": [
    "# convert 'publicatiedatum' to datetime format\n",
    "df['publicatiedatum'] = pd.to_datetime(df['publicatiedatum'])\n",
    "\n",
    "# date range\n",
    "start_date = '2006-01-10'\n",
    "end_date = '2014-05-23'\n",
    "\n",
    "filtered_indices = df[(df['publicatiedatum'] >= start_date) & (df['publicatiedatum'] <= end_date)].index\n",
    "\n",
    "# update 'split_location' to 'no split' for these instances -> should be 141 !! \n",
    "df.loc[filtered_indices, 'split_location'] = 'no split'\n",
    "\n",
    "# distribution of 'split_location' \n",
    "split_location_distribution = df['split_location'].value_counts()\n",
    "\n",
    "print(\"Updated DataFrame:\")\n",
    "print(df)\n",
    "\n",
    "print(\"\\nDistribution of 'split_location' values:\")\n",
    "print(split_location_distribution)"
   ]
  },
  {
   "cell_type": "markdown",
   "metadata": {},
   "source": [
    "It's fixed. There are now 141 instances with 'no split', the instances from that time period with the same written question format. "
   ]
  },
  {
   "cell_type": "code",
   "execution_count": 75,
   "metadata": {},
   "outputs": [],
   "source": [
    "# filter the df for dates within the date range\n",
    "date_range_indices = df[(df['publicatiedatum'] >= start_date) & (df['publicatiedatum'] <= end_date)].index\n",
    "\n",
    "# find instances where 'split_location' is 'no split'\n",
    "no_split_indices = df[df['split_location'] == 'no split'].index\n",
    "\n",
    "# get the instances that are in 'no split' but NOT in the date range -> these shouldn't have a 'no split' value\n",
    "not_in_date_range_indices = no_split_indices.difference(date_range_indices)\n",
    "not_in_date_range_df = df.loc[not_in_date_range_indices]"
   ]
  },
  {
   "cell_type": "code",
   "execution_count": 76,
   "metadata": {},
   "outputs": [
    {
     "name": "stdout",
     "output_type": "stream",
     "text": [
      "Instances with 'no split' that are NOT in the date range:\n",
      "    id_fact zittingsjaar naam_vragensteller voornaam_vragensteller  \\\n",
      "1    450728    1995-1996  Van Cleuvenbergen                   Riet   \n",
      "2    450737    1995-1996  Van Cleuvenbergen                   Riet   \n",
      "3    450739    1995-1996  Van Cleuvenbergen                   Riet   \n",
      "4    450741    1995-1996  Van Cleuvenbergen                   Riet   \n",
      "5    450731    1995-1996  Van Cleuvenbergen                   Riet   \n",
      "6    450727    1995-1996  Van Cleuvenbergen                   Riet   \n",
      "7    450735    1995-1996  Van Cleuvenbergen                   Riet   \n",
      "8    450724    1995-1996  Van Cleuvenbergen                   Riet   \n",
      "16   453296    1996-1997  Van Cleuvenbergen                   Riet   \n",
      "17   453290    1996-1997  Van Cleuvenbergen                   Riet   \n",
      "18   453298    1996-1997  Van Cleuvenbergen                   Riet   \n",
      "19   453295    1996-1997  Van Cleuvenbergen                   Riet   \n",
      "22   456602    1998-1999           Dewinter                  Filip   \n",
      "\n",
      "    id_vragensteller bevraagde_minister_naam bevraagde_minister_voornaam  \\\n",
      "1               1888                 Martens                         Luc   \n",
      "2               1888              Baldewijns                        Eddy   \n",
      "3               1888      Demeester-De Meyer                      Wivina   \n",
      "4               1888            Kelchtermans                        Theo   \n",
      "5               1888                 Peeters                         Leo   \n",
      "6               1888            Van Asbroeck                        Anne   \n",
      "7               1888              Van Rompuy                        Eric   \n",
      "8               1888         Van den Bossche                         Luc   \n",
      "16              1888            Kelchtermans                        Theo   \n",
      "17              1888            Van Asbroeck                        Anne   \n",
      "18              1888      Demeester-De Meyer                      Wivina   \n",
      "19              1888         Van den Bossche                         Luc   \n",
      "22              1803                Grouwels                    Brigitte   \n",
      "\n",
      "    bevraagde_minister_id publicatiedatum  \\\n",
      "1                    1853      1996-05-21   \n",
      "2                    1748      1996-05-21   \n",
      "3                    1794      1996-05-20   \n",
      "4                    2419      1996-05-17   \n",
      "5                    1860      1996-05-16   \n",
      "6                    1886      1996-05-13   \n",
      "7                    1912      1996-05-10   \n",
      "8                    1890      1996-05-06   \n",
      "16                   2419      1997-07-03   \n",
      "17                   1886      1997-06-30   \n",
      "18                   1794      1997-06-30   \n",
      "19                   1890      1997-06-30   \n",
      "22                   1821      1998-12-21   \n",
      "\n",
      "                                                 text  ...         achternaam  \\\n",
      "1   Vraag nr. 136 vrouwen KUL van 2 april 1996 Cul...  ...  Van Cleuvenbergen   \n",
      "2   Vraag nr. 155 vrouwen KUL van 2 april 1996 Cul...  ...  Van Cleuvenbergen   \n",
      "3   Vraag nr. 38 vrouwen KUL van 2 april 1996 Cult...  ...  Van Cleuvenbergen   \n",
      "4   Vraag nr. 110 vrouwen KUL van 2 april 1996 Cul...  ...  Van Cleuvenbergen   \n",
      "5   Vraag nr. 77 vrouwen KUL van 2 april 1996 Cult...  ...  Van Cleuvenbergen   \n",
      "6   Vraag nr. 22 vrouwen KUL van 2 april 1996 Cult...  ...  Van Cleuvenbergen   \n",
      "7   Vraag nr. 69 vrouwen KUL van 2 april 1996 Cult...  ...  Van Cleuvenbergen   \n",
      "8   Vraag nr. 123 vrouwen KUL van 2 april 1996 Cul...  ...  Van Cleuvenbergen   \n",
      "16  Vraag nr. 294 ΓÇô Archief en Museum van de van...  ...  Van Cleuvenbergen   \n",
      "17  Vraag nr. 37 ΓÇô Archief en Museum van de van ...  ...  Van Cleuvenbergen   \n",
      "18  Vraag nr. 93 ΓÇô Archief en Museum van de van ...  ...  Van Cleuvenbergen   \n",
      "19  Vraag nr. 209 ΓÇô Archief en Museum van de van...  ...  Van Cleuvenbergen   \n",
      "22  Vraag nr. 10 Antwoord van 3 november 1998 van ...  ...           Dewinter   \n",
      "\n",
      "   geslacht geboortedatum party_id     party_naam zittingsperiode  \\\n",
      "1         V    1948-06-01  1500770           CD&V       1995-1999   \n",
      "2         V    1948-06-01  1500770           CD&V       1995-1999   \n",
      "3         V    1948-06-01  1500770           CD&V       1995-1999   \n",
      "4         V    1948-06-01  1500770           CD&V       1995-1999   \n",
      "5         V    1948-06-01  1500770           CD&V       1995-1999   \n",
      "6         V    1948-06-01  1500770           CD&V       1995-1999   \n",
      "7         V    1948-06-01  1500770           CD&V       1995-1999   \n",
      "8         V    1948-06-01  1500770           CD&V       1995-1999   \n",
      "16        V    1948-06-01  1500770           CD&V       1995-1999   \n",
      "17        V    1948-06-01  1500770           CD&V       1995-1999   \n",
      "18        V    1948-06-01  1500770           CD&V       1995-1999   \n",
      "19        V    1948-06-01  1500770           CD&V       1995-1999   \n",
      "22        M    1962-09-10  1279900  Vlaams Belang       1995-1999   \n",
      "\n",
      "    antwoord_count Antwoord_ANTWOORD_count check  split_location  \n",
      "1                1                       0     1        no split  \n",
      "2                1                       0     1        no split  \n",
      "3                1                       0     1        no split  \n",
      "4                1                       0     1        no split  \n",
      "5                1                       0     1        no split  \n",
      "6                1                       0     1        no split  \n",
      "7                1                       0     1        no split  \n",
      "8                1                       0     1        no split  \n",
      "16               1                       0     1        no split  \n",
      "17               1                       0     1        no split  \n",
      "18               1                       0     1        no split  \n",
      "19               1                       0     1        no split  \n",
      "22               4                       2     0        no split  \n",
      "\n",
      "[13 rows x 23 columns]\n"
     ]
    }
   ],
   "source": [
    "print(\"Instances with 'no split' that are NOT in the date range:\")\n",
    "print(not_in_date_range_df)"
   ]
  },
  {
   "cell_type": "markdown",
   "metadata": {},
   "source": [
    "We need to check out these instances, because they have the value 'no split' but their questions are not from the time period with that specific question format. "
   ]
  },
  {
   "cell_type": "markdown",
   "metadata": {},
   "source": [
    "After inspection, most of these rows can be deleted. We are also deleting the question with id_fact = 865144, which I found out is a reply to a question, not a question itself."
   ]
  },
  {
   "cell_type": "code",
   "execution_count": 81,
   "metadata": {},
   "outputs": [],
   "source": [
    "# these rows will be deleted since it is unrelated / previously undetected duplicates / reply to written question\n",
    "\n",
    "id_fact_to_delete = [450728, 450737, 450739, 450741, 450731, 450727, 450735, 450724, 453296, 453290, 453298, 453295, 865144]\n",
    "df = df[~df['id_fact'].isin(id_fact_to_delete)]"
   ]
  },
  {
   "cell_type": "code",
   "execution_count": 83,
   "metadata": {},
   "outputs": [
    {
     "name": "stdout",
     "output_type": "stream",
     "text": [
      "split_location\n",
      "ANTWOORD    314\n",
      "no split    141\n",
      "Antwoord     35\n",
      "antwoord      2\n",
      "Name: count, dtype: int64\n"
     ]
    }
   ],
   "source": [
    "print(split_location_distribution)"
   ]
  },
  {
   "cell_type": "markdown",
   "metadata": {},
   "source": [
    "Now, we see that there are 141 instances with no split value, which should be right. There are 314 instances that can be splited with 'ANTWOORD' and 35 instances that can be splitted with 'Antwoord'. We'll quickly check out the  2 instances that can supposedly be splitted with 'antwoord'."
   ]
  },
  {
   "cell_type": "code",
   "execution_count": 84,
   "metadata": {},
   "outputs": [
    {
     "name": "stdout",
     "output_type": "stream",
     "text": [
      "Instances with 'antwoord' as split_location value:\n",
      "    id_fact zittingsjaar naam_vragensteller voornaam_vragensteller  \\\n",
      "21   456603    1998-1999           Dewinter                  Filip   \n",
      "24   457103    1998-1999           Dewinter                  Filip   \n",
      "\n",
      "    id_vragensteller bevraagde_minister_naam bevraagde_minister_voornaam  \\\n",
      "21              1803      Demeester-De Meyer                      Wivina   \n",
      "24              1803                Grouwels                    Brigitte   \n",
      "\n",
      "    bevraagde_minister_id publicatiedatum  \\\n",
      "21                   1794      1998-12-23   \n",
      "24                   1821      1999-04-13   \n",
      "\n",
      "                                                 text  ... achternaam  \\\n",
      "21  Vraag nr. 19 gesteund. Er is geen onderscheid ...  ...   Dewinter   \n",
      "24  Vraag nr. 23 Antwoord van 19 februari 1999 van...  ...   Dewinter   \n",
      "\n",
      "   geslacht geboortedatum party_id     party_naam zittingsperiode  \\\n",
      "21        M    1962-09-10  1279900  Vlaams Belang       1995-1999   \n",
      "24        M    1962-09-10  1279900  Vlaams Belang       1995-1999   \n",
      "\n",
      "    antwoord_count Antwoord_ANTWOORD_count check  split_location  \n",
      "21               3                       2     0        antwoord  \n",
      "24               2                       1     1        antwoord  \n",
      "\n",
      "[2 rows x 23 columns]\n"
     ]
    }
   ],
   "source": [
    "# find instances where 'split_location' is 'antwoord'\n",
    "antwoord_instances = df[df['split_location'] == 'antwoord']\n",
    "\n",
    "print(\"Instances with 'antwoord' as split_location value:\")\n",
    "print(antwoord_instances)"
   ]
  },
  {
   "cell_type": "markdown",
   "metadata": {},
   "source": [
    "I manually check out the text values for these instances, and see if i can manually edit the split_location value."
   ]
  },
  {
   "cell_type": "code",
   "execution_count": 86,
   "metadata": {},
   "outputs": [
    {
     "name": "stdout",
     "output_type": "stream",
     "text": [
      "Vraag nr. 23 Antwoord van 19 februari 1999 van de heer FILIP DEWINTER Het geheel van de tentoonstelling wil een beeld geven van de diversiteit onder lesbische vrouwen. Lesbian ConneXion/s ΓÇô Subsidi├½ring De tentoonstelling laat iets zien van de leefstijl van lesbiennes, van hun dagelijks leven, hoe ze uitgaan Ik kwam in het bezit van een brief van Lesbian of aan sport doen, ... ConneXion/s van 12 december 1998 (zie bijlage). In dit schrijven stelt deze vereniging zich als volgt Het doel van dit project is aan te tonen dat maatvoor : Lesbian ConneXion/s is een internationaal schappelijke discriminatie ervoor zorgt dat lesbienreizende fototentoonstelling met als thema lesbines in onze samenleving niet zichtbaar zijn. Velen sche levens, leefstijlen en zichtbaarheid. Het geheel willen en/of durven niet zichtbaar zijn, waardoor wil een beeld geven van de diversiteit onder lesbihet weer gemakkelijker wordt om de discriminatie sche vrouwen. De tentoonstelling laat iets zien van van lesbiennes te minimaliseren of zelfs te ontkenhun dagelijks leven, fantasie├½n, hun relaties met nen. Als de maatschappij al een beeld heeft van kinderen, moeders, zussen, hun vriendschappen, lesbiennes, is er dat veelal een van manwijven en hun seksuele en erotische relaties . mannenhaatsters ... Met Lesbian ConneXion/s wil men de zichtbaarheid van lesbiennes en daarmee In de tweede paragraaf van de brief schrijft de auhun gevoel van eigenwaarde en zelfrespect verhoteur (blijkbaar de woordvoerster van de verenigen. ging), vervolgens : We hebben een principi├½le toeDoor beelden te tonen van de grote diversiteit die zegging voor subsidie van de Vlaamse minister van er bestaat in lesbische leven en leefstijlen, wordt er Gelijke Kansenbeleid, maar niet voor de volledige gehoopt het beeld van lesbiennes dat de doorbegroting . snee Vlaming op dit moment heeft, te verruimen. Met deze tentoonstelling wil men het stereotype 1. Is er inderdaad een principi├½le toezegging gedoorbreken en zo meewerken aan een mentalidaan voor subsidies voor deze reizende tenteitswijziging. Beelden en kunst in het algemeen toonstelling tot promotie van de lesbische leefzijn een heel belangrijke hefboom voor sensibilisewijze ? ring, omdat ze dingen visueel zichtbaar maken waar woorden tekortschieten. Zo ja, hoeveel bedraagt die subsidie ? Ik stel bovendien vast dat heel wat homoseksuele 2. Heeft de minister kennis van het juiste beeldjongeren gedurende vele jaren af te rekenen hebmateriaal dat tijdens de fototentoonstelling in ben met zelfaanvaardingsproblemen. OnderzoeksGent zal worden getoond ? cijfers tonen aan dat het aantal pogingen tot zelfdoding bij homoseksuele jongeren veel hoger ligt Heeft de minister bepaalde voorwaarden gedan bij heteroseksuele jongeren : bij lesbische koppeld aan de toezegging van de subsidies meisjes ligt het aantal vijfmaal hoger, bij homosek(zoals bijvoorbeeld het weren van foto's die in suele jongens dubbel zo hoog. Tentoonstellingen strijd zijn met de goede zeden) ? als deze werken dus in de eerste plaats emancipatorisch naar de doelgroep zelf. In het maatschappeWordt er eventueel een controle uitgevoerd om lijke leven (film, tijdschriften, kranten, tv, ...) zijn er de tentoonstelling te toetsen aan de maatschapnog altijd heel weinig beelden van lesbische vroupelijke zienswijze over homoseksualiteit ? wen. Om een positief zelfbeeld van lesbiennes te kunnen ontwikkelen, is het belangrijk dat er voor3. Op welke wijze past deze tentoonstelling in de beeld zijn waarmee vrouwen zich kunnen identifipositieve beeldvorming en de opening van de ceren. Als overheid moeten wij ons bekommeren maatschappelijke discussie over de discriminaover hun welzijn. ties ten aanzien van homo's en lesbiennes in Vlaanderen (zie antwoord van de minister op Om al deze redenen is deze tentoonstelling zeker mijn schriftelijke vraag nr. 10 van 3 november geen promotie en pleidooi voor de lesbische 1998 ; Bulletin van Vragen en Antwoorden nr. 6 levenswijze, zoals ten onrechte wordt gevreesd. Ievan 15 januari 1999, blz. 911) ? mand is lesbisch of niet. Je kan niet iemand bekeren tot een lesbienne. Als het zo eenvoudig was 4. Is deze tentoonstelling geen duidelijke promotie dat je kon kiezen of je homoseksueel bent of niet, en pleidooi voor de lesbische levenswijze ? waarom zouden jongeren het zich dan zo moeilijk maken ? Waarom zouden ze het zich zo moeilijk maken om dag na dag te vechten om met hun anders zijn als volwaardig lid van de maatschappij te worden aanvaard ? Er wordt getracht om zo open mogelijk met homoseksualiteit om te gaan en de discriminaties op te heffen jegens homoseksuelen. Deze tentoonstelling wordt gesubsidieerd voor een bedrag van 639.920 frank. De tentoonstelling opende in Amsterdam tijdens de Gay Olympics in augustus 1998. Met de tentoonstelling in Gent zal het de tweede maal zijn dat Lesbian ConneXion/s aan het publiek wordt voorgesteld. In Gent wordt ook nieuw beeldmateriaal getoond. Dit vormt trouwens ├⌐├⌐n van de basiselementen van het project : namelijk dat de tentoonstelling aangroeit per land waar ze wordt vertoond. Op die manier zal de culturele diversiteit van deze doelgroep nog beter tot uiting komen. Lesbian ConneXion/s werd in Amsterdam geopend door vooraanstaande burgers. Ook in Vlaanderen wordt de tentoonstelling gepresenteerd in de Gentse Sint-Pietersabdij, en niet in een of ander obscuur dorpsgalerijtje. Het betreft hier immers artistieke prestaties, waaraan in het besluit geen inhoudelijke voorwaarden werden gekoppeld. We hebben het volste vertrouwen in de organisatoren. Ikzelf werd uitgenodigd om de tentoonstelling in Gent te openen, maar door agendaproblemen heb ik dat jammer genoeg niet kunnen doen. De administratie volgt het project op en zal zich een oordeel vormen over de effectiviteit ervan. (Bovenvermelde bijlage ligt ter inzage bij het Algemeen Secretariaat van het Vlaams Parlement, dienst Schriftelijke Vragen ΓÇô red.)\n"
     ]
    }
   ],
   "source": [
    "row = df[df['id_fact'] == 457103]\n",
    "print(row['text'].values[0])"
   ]
  },
  {
   "cell_type": "code",
   "execution_count": 87,
   "metadata": {},
   "outputs": [],
   "source": [
    "# change 'split_location' values for specified instances (manually checked)\n",
    "df.loc[df['id_fact'] == 456602, 'split_location'] = 'gesteld aan'\n",
    "df.loc[df['id_fact'] == 456603, 'split_location'] = 'Antwoord Binnen het kader'\n",
    "df.loc[df['id_fact'] == 457103, 'split_location'] = 'Om een positief zelfbeeld'"
   ]
  },
  {
   "cell_type": "markdown",
   "metadata": {},
   "source": [
    "These split locations indicate where the answer starts in the text. This way, the text can be splitted correctly."
   ]
  },
  {
   "cell_type": "code",
   "execution_count": 89,
   "metadata": {},
   "outputs": [
    {
     "data": {
      "text/plain": [
       "split_location\n",
       "ANTWOORD                     314\n",
       "no split                     140\n",
       "Antwoord                      35\n",
       "Antwoord Binnen het kader      1\n",
       "gesteld aan                    1\n",
       "Om een positief zelfbeeld      1\n",
       "Name: count, dtype: int64"
      ]
     },
     "execution_count": 89,
     "metadata": {},
     "output_type": "execute_result"
    }
   ],
   "source": [
    "# distribution of 'split_location' values\n",
    "split_location_distribution = df['split_location'].value_counts()\n",
    "split_location_distribution"
   ]
  },
  {
   "cell_type": "markdown",
   "metadata": {},
   "source": [
    "## Split text value into Question and Answer"
   ]
  },
  {
   "cell_type": "code",
   "execution_count": 90,
   "metadata": {},
   "outputs": [],
   "source": [
    "def split_text(row):\n",
    "    text = row['text']\n",
    "    split_location = row['split_location']\n",
    "    \n",
    "    # if split_location is 'no split', place entire text in 'question'\n",
    "    if split_location == 'no split':\n",
    "        return pd.Series([text, ''])\n",
    "    \n",
    "    # find where split_location occurs in the text \n",
    "    split_index = text.find(split_location)\n",
    "    \n",
    "    # if split_location is found in the text\n",
    "    if split_index != -1:\n",
    "        question = text[:split_index].strip()\n",
    "        answer = text[split_index:].strip()\n",
    "    else:\n",
    "        question = text\n",
    "        answer = ''\n",
    "    \n",
    "    return pd.Series([question, answer])\n",
    "\n",
    "# Apply the function to each row and create new columns 'question' and 'answer'\n",
    "df[['question', 'answer']] = df.apply(split_text, axis=1)"
   ]
  },
  {
   "cell_type": "code",
   "execution_count": 91,
   "metadata": {},
   "outputs": [
    {
     "data": {
      "text/html": [
       "<div>\n",
       "<style scoped>\n",
       "    .dataframe tbody tr th:only-of-type {\n",
       "        vertical-align: middle;\n",
       "    }\n",
       "\n",
       "    .dataframe tbody tr th {\n",
       "        vertical-align: top;\n",
       "    }\n",
       "\n",
       "    .dataframe thead th {\n",
       "        text-align: right;\n",
       "    }\n",
       "</style>\n",
       "<table border=\"1\" class=\"dataframe\">\n",
       "  <thead>\n",
       "    <tr style=\"text-align: right;\">\n",
       "      <th></th>\n",
       "      <th>id_fact</th>\n",
       "      <th>zittingsjaar</th>\n",
       "      <th>naam_vragensteller</th>\n",
       "      <th>voornaam_vragensteller</th>\n",
       "      <th>id_vragensteller</th>\n",
       "      <th>bevraagde_minister_naam</th>\n",
       "      <th>bevraagde_minister_voornaam</th>\n",
       "      <th>bevraagde_minister_id</th>\n",
       "      <th>publicatiedatum</th>\n",
       "      <th>text</th>\n",
       "      <th>...</th>\n",
       "      <th>geboortedatum</th>\n",
       "      <th>party_id</th>\n",
       "      <th>party_naam</th>\n",
       "      <th>zittingsperiode</th>\n",
       "      <th>antwoord_count</th>\n",
       "      <th>Antwoord_ANTWOORD_count</th>\n",
       "      <th>check</th>\n",
       "      <th>split_location</th>\n",
       "      <th>question</th>\n",
       "      <th>answer</th>\n",
       "    </tr>\n",
       "  </thead>\n",
       "  <tbody>\n",
       "    <tr>\n",
       "      <th>0</th>\n",
       "      <td>449734</td>\n",
       "      <td>BZ 1995</td>\n",
       "      <td>Dewinter</td>\n",
       "      <td>Filip</td>\n",
       "      <td>1803</td>\n",
       "      <td>Van den Bossche</td>\n",
       "      <td>Luc</td>\n",
       "      <td>1890</td>\n",
       "      <td>1995-10-11</td>\n",
       "      <td>Vraag nr. 22 van 4 september 1995 van de heer ...</td>\n",
       "      <td>...</td>\n",
       "      <td>1962-09-10</td>\n",
       "      <td>1279900</td>\n",
       "      <td>Vlaams Belang</td>\n",
       "      <td>1995-1999</td>\n",
       "      <td>1</td>\n",
       "      <td>1</td>\n",
       "      <td>1</td>\n",
       "      <td>Antwoord</td>\n",
       "      <td>Vraag nr. 22 van 4 september 1995 van de heer ...</td>\n",
       "      <td>Antwoord De in de vraag aangehaalde problemati...</td>\n",
       "    </tr>\n",
       "    <tr>\n",
       "      <th>9</th>\n",
       "      <td>452087</td>\n",
       "      <td>1996-1997</td>\n",
       "      <td>Van Nieuwenhuysen</td>\n",
       "      <td>Luk</td>\n",
       "      <td>1907</td>\n",
       "      <td>Van Rompuy</td>\n",
       "      <td>Eric</td>\n",
       "      <td>1912</td>\n",
       "      <td>1996-12-12</td>\n",
       "      <td>Vraag nr. 30 Indien besloten wordt een bepaald...</td>\n",
       "      <td>...</td>\n",
       "      <td>1952-07-15</td>\n",
       "      <td>1491028</td>\n",
       "      <td>Vlaams Belang</td>\n",
       "      <td>1995-1999</td>\n",
       "      <td>0</td>\n",
       "      <td>0</td>\n",
       "      <td>0</td>\n",
       "      <td>Antwoord</td>\n",
       "      <td>Vraag nr. 30 Indien besloten wordt een bepaald...</td>\n",
       "      <td>Antwoord pen werd op 28 en 29 september 1996 e...</td>\n",
       "    </tr>\n",
       "    <tr>\n",
       "      <th>10</th>\n",
       "      <td>451535</td>\n",
       "      <td>1995-1996</td>\n",
       "      <td>Van Nieuwenhuysen</td>\n",
       "      <td>Luk</td>\n",
       "      <td>1907</td>\n",
       "      <td>Van Asbroeck</td>\n",
       "      <td>Anne</td>\n",
       "      <td>1886</td>\n",
       "      <td>1996-10-08</td>\n",
       "      <td>Vraag nr. 42 aan de balies van de Vlaamse Geme...</td>\n",
       "      <td>...</td>\n",
       "      <td>1952-07-15</td>\n",
       "      <td>1491028</td>\n",
       "      <td>Vlaams Belang</td>\n",
       "      <td>1995-1999</td>\n",
       "      <td>1</td>\n",
       "      <td>1</td>\n",
       "      <td>1</td>\n",
       "      <td>Antwoord</td>\n",
       "      <td>Vraag nr. 42 aan de balies van de Vlaamse Geme...</td>\n",
       "      <td>Antwoord Gelijke-kansenbeleid Brusselse Aangel...</td>\n",
       "    </tr>\n",
       "    <tr>\n",
       "      <th>11</th>\n",
       "      <td>451240</td>\n",
       "      <td>1995-1996</td>\n",
       "      <td>Dillen</td>\n",
       "      <td>Marijke</td>\n",
       "      <td>1805</td>\n",
       "      <td>Van Asbroeck</td>\n",
       "      <td>Anne</td>\n",
       "      <td>1886</td>\n",
       "      <td>1996-07-26</td>\n",
       "      <td>Vraag nr. 33 gehandicapten. Een Interdeparteme...</td>\n",
       "      <td>...</td>\n",
       "      <td>1960-12-10</td>\n",
       "      <td>1491023</td>\n",
       "      <td>Vlaams Belang</td>\n",
       "      <td>1995-1999</td>\n",
       "      <td>0</td>\n",
       "      <td>0</td>\n",
       "      <td>0</td>\n",
       "      <td>Antwoord</td>\n",
       "      <td>Vraag nr. 33 gehandicapten. Een Interdeparteme...</td>\n",
       "      <td>Antwoord se administratie en de Vlaamse Openba...</td>\n",
       "    </tr>\n",
       "    <tr>\n",
       "      <th>12</th>\n",
       "      <td>450798</td>\n",
       "      <td>1995-1996</td>\n",
       "      <td>Dewinter</td>\n",
       "      <td>Filip</td>\n",
       "      <td>1803</td>\n",
       "      <td>Van Asbroeck</td>\n",
       "      <td>Anne</td>\n",
       "      <td>1886</td>\n",
       "      <td>1996-07-04</td>\n",
       "      <td>Vraag nr. 24 van 23 april 1996 van de heer FIL...</td>\n",
       "      <td>...</td>\n",
       "      <td>1962-09-10</td>\n",
       "      <td>1279900</td>\n",
       "      <td>Vlaams Belang</td>\n",
       "      <td>1995-1999</td>\n",
       "      <td>1</td>\n",
       "      <td>1</td>\n",
       "      <td>1</td>\n",
       "      <td>Antwoord</td>\n",
       "      <td>Vraag nr. 24 van 23 april 1996 van de heer FIL...</td>\n",
       "      <td>Antwoord Ik heb inderdaad een TV-spot laten ma...</td>\n",
       "    </tr>\n",
       "    <tr>\n",
       "      <th>...</th>\n",
       "      <td>...</td>\n",
       "      <td>...</td>\n",
       "      <td>...</td>\n",
       "      <td>...</td>\n",
       "      <td>...</td>\n",
       "      <td>...</td>\n",
       "      <td>...</td>\n",
       "      <td>...</td>\n",
       "      <td>...</td>\n",
       "      <td>...</td>\n",
       "      <td>...</td>\n",
       "      <td>...</td>\n",
       "      <td>...</td>\n",
       "      <td>...</td>\n",
       "      <td>...</td>\n",
       "      <td>...</td>\n",
       "      <td>...</td>\n",
       "      <td>...</td>\n",
       "      <td>...</td>\n",
       "      <td>...</td>\n",
       "      <td>...</td>\n",
       "    </tr>\n",
       "    <tr>\n",
       "      <th>501</th>\n",
       "      <td>1714426</td>\n",
       "      <td>2022-2023</td>\n",
       "      <td>Sminate</td>\n",
       "      <td>Nadia</td>\n",
       "      <td>4089</td>\n",
       "      <td>Somers</td>\n",
       "      <td>Bart</td>\n",
       "      <td>2773</td>\n",
       "      <td>2023-04-25</td>\n",
       "      <td>SCHRIFTELIJKE VRAAG nr. 223 van NADIA SMINATE ...</td>\n",
       "      <td>...</td>\n",
       "      <td>1981-12-28</td>\n",
       "      <td>1279896</td>\n",
       "      <td>N-VA</td>\n",
       "      <td>2019-2024</td>\n",
       "      <td>1</td>\n",
       "      <td>1</td>\n",
       "      <td>1</td>\n",
       "      <td>ANTWOORD</td>\n",
       "      <td>SCHRIFTELIJKE VRAAG nr. 223 van NADIA SMINATE ...</td>\n",
       "      <td>ANTWOORD op vraag nr. 223 van 3 maart 2023 van...</td>\n",
       "    </tr>\n",
       "    <tr>\n",
       "      <th>502</th>\n",
       "      <td>1711732</td>\n",
       "      <td>2022-2023</td>\n",
       "      <td>Saeys</td>\n",
       "      <td>Freya</td>\n",
       "      <td>4086</td>\n",
       "      <td>Crevits</td>\n",
       "      <td>Hilde</td>\n",
       "      <td>2789</td>\n",
       "      <td>2023-04-25</td>\n",
       "      <td>SCHRIFTELIJKE VRAAG nr. 450 van FREYA SAEYS da...</td>\n",
       "      <td>...</td>\n",
       "      <td>1984-01-30</td>\n",
       "      <td>1279901</td>\n",
       "      <td>Open Vld</td>\n",
       "      <td>2019-2024</td>\n",
       "      <td>1</td>\n",
       "      <td>1</td>\n",
       "      <td>1</td>\n",
       "      <td>ANTWOORD</td>\n",
       "      <td>SCHRIFTELIJKE VRAAG nr. 450 van FREYA SAEYS da...</td>\n",
       "      <td>ANTWOORD op vraag nr. 450 van 27 februari 2023...</td>\n",
       "    </tr>\n",
       "    <tr>\n",
       "      <th>503</th>\n",
       "      <td>1774502</td>\n",
       "      <td>2023-2024</td>\n",
       "      <td>Perdaens</td>\n",
       "      <td>Freya</td>\n",
       "      <td>4405</td>\n",
       "      <td>Weyts</td>\n",
       "      <td>Ben</td>\n",
       "      <td>4104</td>\n",
       "      <td>2023-12-21</td>\n",
       "      <td>SCHRIFTELIJKE VRAAG nr. 81 van FREYA PERDAENS ...</td>\n",
       "      <td>...</td>\n",
       "      <td>1989-01-28</td>\n",
       "      <td>1279896</td>\n",
       "      <td>N-VA</td>\n",
       "      <td>2019-2024</td>\n",
       "      <td>1</td>\n",
       "      <td>1</td>\n",
       "      <td>1</td>\n",
       "      <td>ANTWOORD</td>\n",
       "      <td>SCHRIFTELIJKE VRAAG nr. 81 van FREYA PERDAENS ...</td>\n",
       "      <td>ANTWOORD op vraag nr. 81 van 24 oktober 2023 v...</td>\n",
       "    </tr>\n",
       "    <tr>\n",
       "      <th>504</th>\n",
       "      <td>1771914</td>\n",
       "      <td>2023-2024</td>\n",
       "      <td>Ampe</td>\n",
       "      <td>Els</td>\n",
       "      <td>4382</td>\n",
       "      <td>Weyts</td>\n",
       "      <td>Ben</td>\n",
       "      <td>4104</td>\n",
       "      <td>2023-12-14</td>\n",
       "      <td>SCHRIFTELIJKE VRAAG nr. 63 van ELS AMPE datum:...</td>\n",
       "      <td>...</td>\n",
       "      <td>1979-01-17</td>\n",
       "      <td>-1</td>\n",
       "      <td>Onafhankelijke</td>\n",
       "      <td>2019-2024</td>\n",
       "      <td>1</td>\n",
       "      <td>1</td>\n",
       "      <td>1</td>\n",
       "      <td>ANTWOORD</td>\n",
       "      <td>SCHRIFTELIJKE VRAAG nr. 63 van ELS AMPE datum:...</td>\n",
       "      <td>ANTWOORD op vraag nr. 63 van 17 oktober 2023 v...</td>\n",
       "    </tr>\n",
       "    <tr>\n",
       "      <th>505</th>\n",
       "      <td>1762780</td>\n",
       "      <td>2022-2023</td>\n",
       "      <td>Groothedde</td>\n",
       "      <td>Celia</td>\n",
       "      <td>4398</td>\n",
       "      <td>Weyts</td>\n",
       "      <td>Ben</td>\n",
       "      <td>4104</td>\n",
       "      <td>2023-11-10</td>\n",
       "      <td>SCHRIFTELIJKE VRAAG nr. 917 van CELIA GROOTHED...</td>\n",
       "      <td>...</td>\n",
       "      <td>1977-09-25</td>\n",
       "      <td>1279907</td>\n",
       "      <td>Groen</td>\n",
       "      <td>2019-2024</td>\n",
       "      <td>1</td>\n",
       "      <td>1</td>\n",
       "      <td>1</td>\n",
       "      <td>ANTWOORD</td>\n",
       "      <td>SCHRIFTELIJKE VRAAG nr. 917 van CELIA GROOTHED...</td>\n",
       "      <td>ANTWOORD op vraag nr. 917 van 20 september 202...</td>\n",
       "    </tr>\n",
       "  </tbody>\n",
       "</table>\n",
       "<p>492 rows × 25 columns</p>\n",
       "</div>"
      ],
      "text/plain": [
       "     id_fact zittingsjaar naam_vragensteller voornaam_vragensteller  \\\n",
       "0     449734      BZ 1995           Dewinter                  Filip   \n",
       "9     452087    1996-1997  Van Nieuwenhuysen                    Luk   \n",
       "10    451535    1995-1996  Van Nieuwenhuysen                    Luk   \n",
       "11    451240    1995-1996             Dillen                Marijke   \n",
       "12    450798    1995-1996           Dewinter                  Filip   \n",
       "..       ...          ...                ...                    ...   \n",
       "501  1714426    2022-2023            Sminate                  Nadia   \n",
       "502  1711732    2022-2023              Saeys                  Freya   \n",
       "503  1774502    2023-2024           Perdaens                  Freya   \n",
       "504  1771914    2023-2024               Ampe                    Els   \n",
       "505  1762780    2022-2023         Groothedde                  Celia   \n",
       "\n",
       "     id_vragensteller bevraagde_minister_naam bevraagde_minister_voornaam  \\\n",
       "0                1803         Van den Bossche                         Luc   \n",
       "9                1907              Van Rompuy                        Eric   \n",
       "10               1907            Van Asbroeck                        Anne   \n",
       "11               1805            Van Asbroeck                        Anne   \n",
       "12               1803            Van Asbroeck                        Anne   \n",
       "..                ...                     ...                         ...   \n",
       "501              4089                  Somers                        Bart   \n",
       "502              4086                 Crevits                       Hilde   \n",
       "503              4405                   Weyts                         Ben   \n",
       "504              4382                   Weyts                         Ben   \n",
       "505              4398                   Weyts                         Ben   \n",
       "\n",
       "     bevraagde_minister_id publicatiedatum  \\\n",
       "0                     1890      1995-10-11   \n",
       "9                     1912      1996-12-12   \n",
       "10                    1886      1996-10-08   \n",
       "11                    1886      1996-07-26   \n",
       "12                    1886      1996-07-04   \n",
       "..                     ...             ...   \n",
       "501                   2773      2023-04-25   \n",
       "502                   2789      2023-04-25   \n",
       "503                   4104      2023-12-21   \n",
       "504                   4104      2023-12-14   \n",
       "505                   4104      2023-11-10   \n",
       "\n",
       "                                                  text  ... geboortedatum  \\\n",
       "0    Vraag nr. 22 van 4 september 1995 van de heer ...  ...    1962-09-10   \n",
       "9    Vraag nr. 30 Indien besloten wordt een bepaald...  ...    1952-07-15   \n",
       "10   Vraag nr. 42 aan de balies van de Vlaamse Geme...  ...    1952-07-15   \n",
       "11   Vraag nr. 33 gehandicapten. Een Interdeparteme...  ...    1960-12-10   \n",
       "12   Vraag nr. 24 van 23 april 1996 van de heer FIL...  ...    1962-09-10   \n",
       "..                                                 ...  ...           ...   \n",
       "501  SCHRIFTELIJKE VRAAG nr. 223 van NADIA SMINATE ...  ...    1981-12-28   \n",
       "502  SCHRIFTELIJKE VRAAG nr. 450 van FREYA SAEYS da...  ...    1984-01-30   \n",
       "503  SCHRIFTELIJKE VRAAG nr. 81 van FREYA PERDAENS ...  ...    1989-01-28   \n",
       "504  SCHRIFTELIJKE VRAAG nr. 63 van ELS AMPE datum:...  ...    1979-01-17   \n",
       "505  SCHRIFTELIJKE VRAAG nr. 917 van CELIA GROOTHED...  ...    1977-09-25   \n",
       "\n",
       "    party_id      party_naam zittingsperiode antwoord_count  \\\n",
       "0    1279900   Vlaams Belang       1995-1999              1   \n",
       "9    1491028   Vlaams Belang       1995-1999              0   \n",
       "10   1491028   Vlaams Belang       1995-1999              1   \n",
       "11   1491023   Vlaams Belang       1995-1999              0   \n",
       "12   1279900   Vlaams Belang       1995-1999              1   \n",
       "..       ...             ...             ...            ...   \n",
       "501  1279896            N-VA       2019-2024              1   \n",
       "502  1279901        Open Vld       2019-2024              1   \n",
       "503  1279896            N-VA       2019-2024              1   \n",
       "504       -1  Onafhankelijke       2019-2024              1   \n",
       "505  1279907           Groen       2019-2024              1   \n",
       "\n",
       "    Antwoord_ANTWOORD_count  check split_location  \\\n",
       "0                         1      1       Antwoord   \n",
       "9                         0      0       Antwoord   \n",
       "10                        1      1       Antwoord   \n",
       "11                        0      0       Antwoord   \n",
       "12                        1      1       Antwoord   \n",
       "..                      ...    ...            ...   \n",
       "501                       1      1       ANTWOORD   \n",
       "502                       1      1       ANTWOORD   \n",
       "503                       1      1       ANTWOORD   \n",
       "504                       1      1       ANTWOORD   \n",
       "505                       1      1       ANTWOORD   \n",
       "\n",
       "                                              question  \\\n",
       "0    Vraag nr. 22 van 4 september 1995 van de heer ...   \n",
       "9    Vraag nr. 30 Indien besloten wordt een bepaald...   \n",
       "10   Vraag nr. 42 aan de balies van de Vlaamse Geme...   \n",
       "11   Vraag nr. 33 gehandicapten. Een Interdeparteme...   \n",
       "12   Vraag nr. 24 van 23 april 1996 van de heer FIL...   \n",
       "..                                                 ...   \n",
       "501  SCHRIFTELIJKE VRAAG nr. 223 van NADIA SMINATE ...   \n",
       "502  SCHRIFTELIJKE VRAAG nr. 450 van FREYA SAEYS da...   \n",
       "503  SCHRIFTELIJKE VRAAG nr. 81 van FREYA PERDAENS ...   \n",
       "504  SCHRIFTELIJKE VRAAG nr. 63 van ELS AMPE datum:...   \n",
       "505  SCHRIFTELIJKE VRAAG nr. 917 van CELIA GROOTHED...   \n",
       "\n",
       "                                                answer  \n",
       "0    Antwoord De in de vraag aangehaalde problemati...  \n",
       "9    Antwoord pen werd op 28 en 29 september 1996 e...  \n",
       "10   Antwoord Gelijke-kansenbeleid Brusselse Aangel...  \n",
       "11   Antwoord se administratie en de Vlaamse Openba...  \n",
       "12   Antwoord Ik heb inderdaad een TV-spot laten ma...  \n",
       "..                                                 ...  \n",
       "501  ANTWOORD op vraag nr. 223 van 3 maart 2023 van...  \n",
       "502  ANTWOORD op vraag nr. 450 van 27 februari 2023...  \n",
       "503  ANTWOORD op vraag nr. 81 van 24 oktober 2023 v...  \n",
       "504  ANTWOORD op vraag nr. 63 van 17 oktober 2023 v...  \n",
       "505  ANTWOORD op vraag nr. 917 van 20 september 202...  \n",
       "\n",
       "[492 rows x 25 columns]"
      ]
     },
     "execution_count": 91,
     "metadata": {},
     "output_type": "execute_result"
    }
   ],
   "source": [
    "df"
   ]
  },
  {
   "cell_type": "code",
   "execution_count": 94,
   "metadata": {},
   "outputs": [
    {
     "name": "stdout",
     "output_type": "stream",
     "text": [
      "    id_fact zittingsjaar naam_vragensteller voornaam_vragensteller  \\\n",
      "24   457103    1998-1999           Dewinter                  Filip   \n",
      "\n",
      "    id_vragensteller bevraagde_minister_naam bevraagde_minister_voornaam  \\\n",
      "24              1803                Grouwels                    Brigitte   \n",
      "\n",
      "    bevraagde_minister_id publicatiedatum  \\\n",
      "24                   1821      1999-04-13   \n",
      "\n",
      "                                                 text  ... geboortedatum  \\\n",
      "24  Vraag nr. 23 Antwoord van 19 februari 1999 van...  ...    1962-09-10   \n",
      "\n",
      "   party_id     party_naam zittingsperiode antwoord_count  \\\n",
      "24  1279900  Vlaams Belang       1995-1999              2   \n",
      "\n",
      "   Antwoord_ANTWOORD_count  check             split_location  \\\n",
      "24                       1      1  Om een positief zelfbeeld   \n",
      "\n",
      "                                             question  \\\n",
      "24  Vraag nr. 23 Antwoord van 19 februari 1999 van...   \n",
      "\n",
      "                                               answer  \n",
      "24  Om een positief zelfbeeld van lesbiennes te ku...  \n",
      "\n",
      "[1 rows x 25 columns]\n"
     ]
    }
   ],
   "source": [
    "row = df[df['id_fact'] == 457103]\n",
    "print(row)"
   ]
  },
  {
   "cell_type": "markdown",
   "metadata": {},
   "source": [
    "Now, the text values are split up into a question and answer."
   ]
  },
  {
   "cell_type": "code",
   "execution_count": 95,
   "metadata": {},
   "outputs": [],
   "source": [
    "file_path = 'df_clean.csv'\n",
    "df.to_csv(file_path, index=False)"
   ]
  },
  {
   "cell_type": "markdown",
   "metadata": {},
   "source": [
    "## Create column 'GAL/TAN'"
   ]
  },
  {
   "cell_type": "code",
   "execution_count": 3,
   "metadata": {},
   "outputs": [],
   "source": [
    "df = pd.read_csv('df_clean.csv')"
   ]
  },
  {
   "cell_type": "code",
   "execution_count": 5,
   "metadata": {},
   "outputs": [
    {
     "data": {
      "text/html": [
       "<div>\n",
       "<style scoped>\n",
       "    .dataframe tbody tr th:only-of-type {\n",
       "        vertical-align: middle;\n",
       "    }\n",
       "\n",
       "    .dataframe tbody tr th {\n",
       "        vertical-align: top;\n",
       "    }\n",
       "\n",
       "    .dataframe thead th {\n",
       "        text-align: right;\n",
       "    }\n",
       "</style>\n",
       "<table border=\"1\" class=\"dataframe\">\n",
       "  <thead>\n",
       "    <tr style=\"text-align: right;\">\n",
       "      <th></th>\n",
       "      <th>id_fact</th>\n",
       "      <th>zittingsjaar</th>\n",
       "      <th>naam_vragensteller</th>\n",
       "      <th>voornaam_vragensteller</th>\n",
       "      <th>id_vragensteller</th>\n",
       "      <th>bevraagde_minister_naam</th>\n",
       "      <th>bevraagde_minister_voornaam</th>\n",
       "      <th>bevraagde_minister_id</th>\n",
       "      <th>publicatiedatum</th>\n",
       "      <th>text</th>\n",
       "      <th>...</th>\n",
       "      <th>geboortedatum</th>\n",
       "      <th>party_id</th>\n",
       "      <th>party_naam</th>\n",
       "      <th>zittingsperiode</th>\n",
       "      <th>antwoord_count</th>\n",
       "      <th>Antwoord_ANTWOORD_count</th>\n",
       "      <th>check</th>\n",
       "      <th>split_location</th>\n",
       "      <th>question</th>\n",
       "      <th>answer</th>\n",
       "    </tr>\n",
       "  </thead>\n",
       "  <tbody>\n",
       "    <tr>\n",
       "      <th>0</th>\n",
       "      <td>449734</td>\n",
       "      <td>BZ 1995</td>\n",
       "      <td>Dewinter</td>\n",
       "      <td>Filip</td>\n",
       "      <td>1803</td>\n",
       "      <td>Van den Bossche</td>\n",
       "      <td>Luc</td>\n",
       "      <td>1890</td>\n",
       "      <td>1995-10-11</td>\n",
       "      <td>Vraag nr. 22 van 4 september 1995 van de heer ...</td>\n",
       "      <td>...</td>\n",
       "      <td>1962-09-10</td>\n",
       "      <td>1279900</td>\n",
       "      <td>Vlaams Belang</td>\n",
       "      <td>1995-1999</td>\n",
       "      <td>1</td>\n",
       "      <td>1</td>\n",
       "      <td>1</td>\n",
       "      <td>Antwoord</td>\n",
       "      <td>Vraag nr. 22 van 4 september 1995 van de heer ...</td>\n",
       "      <td>Antwoord De in de vraag aangehaalde problemati...</td>\n",
       "    </tr>\n",
       "    <tr>\n",
       "      <th>1</th>\n",
       "      <td>452087</td>\n",
       "      <td>1996-1997</td>\n",
       "      <td>Van Nieuwenhuysen</td>\n",
       "      <td>Luk</td>\n",
       "      <td>1907</td>\n",
       "      <td>Van Rompuy</td>\n",
       "      <td>Eric</td>\n",
       "      <td>1912</td>\n",
       "      <td>1996-12-12</td>\n",
       "      <td>Vraag nr. 30 Indien besloten wordt een bepaald...</td>\n",
       "      <td>...</td>\n",
       "      <td>1952-07-15</td>\n",
       "      <td>1491028</td>\n",
       "      <td>Vlaams Belang</td>\n",
       "      <td>1995-1999</td>\n",
       "      <td>0</td>\n",
       "      <td>0</td>\n",
       "      <td>0</td>\n",
       "      <td>Antwoord</td>\n",
       "      <td>Vraag nr. 30 Indien besloten wordt een bepaald...</td>\n",
       "      <td>Antwoord pen werd op 28 en 29 september 1996 e...</td>\n",
       "    </tr>\n",
       "    <tr>\n",
       "      <th>2</th>\n",
       "      <td>451535</td>\n",
       "      <td>1995-1996</td>\n",
       "      <td>Van Nieuwenhuysen</td>\n",
       "      <td>Luk</td>\n",
       "      <td>1907</td>\n",
       "      <td>Van Asbroeck</td>\n",
       "      <td>Anne</td>\n",
       "      <td>1886</td>\n",
       "      <td>1996-10-08</td>\n",
       "      <td>Vraag nr. 42 aan de balies van de Vlaamse Geme...</td>\n",
       "      <td>...</td>\n",
       "      <td>1952-07-15</td>\n",
       "      <td>1491028</td>\n",
       "      <td>Vlaams Belang</td>\n",
       "      <td>1995-1999</td>\n",
       "      <td>1</td>\n",
       "      <td>1</td>\n",
       "      <td>1</td>\n",
       "      <td>Antwoord</td>\n",
       "      <td>Vraag nr. 42 aan de balies van de Vlaamse Geme...</td>\n",
       "      <td>Antwoord Gelijke-kansenbeleid Brusselse Aangel...</td>\n",
       "    </tr>\n",
       "    <tr>\n",
       "      <th>3</th>\n",
       "      <td>451240</td>\n",
       "      <td>1995-1996</td>\n",
       "      <td>Dillen</td>\n",
       "      <td>Marijke</td>\n",
       "      <td>1805</td>\n",
       "      <td>Van Asbroeck</td>\n",
       "      <td>Anne</td>\n",
       "      <td>1886</td>\n",
       "      <td>1996-07-26</td>\n",
       "      <td>Vraag nr. 33 gehandicapten. Een Interdeparteme...</td>\n",
       "      <td>...</td>\n",
       "      <td>1960-12-10</td>\n",
       "      <td>1491023</td>\n",
       "      <td>Vlaams Belang</td>\n",
       "      <td>1995-1999</td>\n",
       "      <td>0</td>\n",
       "      <td>0</td>\n",
       "      <td>0</td>\n",
       "      <td>Antwoord</td>\n",
       "      <td>Vraag nr. 33 gehandicapten. Een Interdeparteme...</td>\n",
       "      <td>Antwoord se administratie en de Vlaamse Openba...</td>\n",
       "    </tr>\n",
       "    <tr>\n",
       "      <th>4</th>\n",
       "      <td>450798</td>\n",
       "      <td>1995-1996</td>\n",
       "      <td>Dewinter</td>\n",
       "      <td>Filip</td>\n",
       "      <td>1803</td>\n",
       "      <td>Van Asbroeck</td>\n",
       "      <td>Anne</td>\n",
       "      <td>1886</td>\n",
       "      <td>1996-07-04</td>\n",
       "      <td>Vraag nr. 24 van 23 april 1996 van de heer FIL...</td>\n",
       "      <td>...</td>\n",
       "      <td>1962-09-10</td>\n",
       "      <td>1279900</td>\n",
       "      <td>Vlaams Belang</td>\n",
       "      <td>1995-1999</td>\n",
       "      <td>1</td>\n",
       "      <td>1</td>\n",
       "      <td>1</td>\n",
       "      <td>Antwoord</td>\n",
       "      <td>Vraag nr. 24 van 23 april 1996 van de heer FIL...</td>\n",
       "      <td>Antwoord Ik heb inderdaad een TV-spot laten ma...</td>\n",
       "    </tr>\n",
       "  </tbody>\n",
       "</table>\n",
       "<p>5 rows × 25 columns</p>\n",
       "</div>"
      ],
      "text/plain": [
       "   id_fact zittingsjaar naam_vragensteller voornaam_vragensteller  \\\n",
       "0   449734      BZ 1995           Dewinter                  Filip   \n",
       "1   452087    1996-1997  Van Nieuwenhuysen                    Luk   \n",
       "2   451535    1995-1996  Van Nieuwenhuysen                    Luk   \n",
       "3   451240    1995-1996             Dillen                Marijke   \n",
       "4   450798    1995-1996           Dewinter                  Filip   \n",
       "\n",
       "   id_vragensteller bevraagde_minister_naam bevraagde_minister_voornaam  \\\n",
       "0              1803         Van den Bossche                         Luc   \n",
       "1              1907              Van Rompuy                        Eric   \n",
       "2              1907            Van Asbroeck                        Anne   \n",
       "3              1805            Van Asbroeck                        Anne   \n",
       "4              1803            Van Asbroeck                        Anne   \n",
       "\n",
       "   bevraagde_minister_id publicatiedatum  \\\n",
       "0                   1890      1995-10-11   \n",
       "1                   1912      1996-12-12   \n",
       "2                   1886      1996-10-08   \n",
       "3                   1886      1996-07-26   \n",
       "4                   1886      1996-07-04   \n",
       "\n",
       "                                                text  ... geboortedatum  \\\n",
       "0  Vraag nr. 22 van 4 september 1995 van de heer ...  ...    1962-09-10   \n",
       "1  Vraag nr. 30 Indien besloten wordt een bepaald...  ...    1952-07-15   \n",
       "2  Vraag nr. 42 aan de balies van de Vlaamse Geme...  ...    1952-07-15   \n",
       "3  Vraag nr. 33 gehandicapten. Een Interdeparteme...  ...    1960-12-10   \n",
       "4  Vraag nr. 24 van 23 april 1996 van de heer FIL...  ...    1962-09-10   \n",
       "\n",
       "  party_id     party_naam zittingsperiode antwoord_count  \\\n",
       "0  1279900  Vlaams Belang       1995-1999              1   \n",
       "1  1491028  Vlaams Belang       1995-1999              0   \n",
       "2  1491028  Vlaams Belang       1995-1999              1   \n",
       "3  1491023  Vlaams Belang       1995-1999              0   \n",
       "4  1279900  Vlaams Belang       1995-1999              1   \n",
       "\n",
       "  Antwoord_ANTWOORD_count  check split_location  \\\n",
       "0                       1      1       Antwoord   \n",
       "1                       0      0       Antwoord   \n",
       "2                       1      1       Antwoord   \n",
       "3                       0      0       Antwoord   \n",
       "4                       1      1       Antwoord   \n",
       "\n",
       "                                            question  \\\n",
       "0  Vraag nr. 22 van 4 september 1995 van de heer ...   \n",
       "1  Vraag nr. 30 Indien besloten wordt een bepaald...   \n",
       "2  Vraag nr. 42 aan de balies van de Vlaamse Geme...   \n",
       "3  Vraag nr. 33 gehandicapten. Een Interdeparteme...   \n",
       "4  Vraag nr. 24 van 23 april 1996 van de heer FIL...   \n",
       "\n",
       "                                              answer  \n",
       "0  Antwoord De in de vraag aangehaalde problemati...  \n",
       "1  Antwoord pen werd op 28 en 29 september 1996 e...  \n",
       "2  Antwoord Gelijke-kansenbeleid Brusselse Aangel...  \n",
       "3  Antwoord se administratie en de Vlaamse Openba...  \n",
       "4  Antwoord Ik heb inderdaad een TV-spot laten ma...  \n",
       "\n",
       "[5 rows x 25 columns]"
      ]
     },
     "execution_count": 5,
     "metadata": {},
     "output_type": "execute_result"
    }
   ],
   "source": [
    "df.head(5)"
   ]
  },
  {
   "cell_type": "code",
   "execution_count": 6,
   "metadata": {},
   "outputs": [
    {
     "data": {
      "image/png": "[encoded data removed]",
      "text/plain": [
       "<Figure size 1200x600 with 1 Axes>"
      ]
     },
     "metadata": {},
     "output_type": "display_data"
    }
   ],
   "source": [
    "# distribution of political party\n",
    "plt.figure(figsize=(12, 6))\n",
    "sns.countplot(data=df, x='party_naam', order=df['party_naam'].value_counts().index)\n",
    "plt.xticks(rotation=90)\n",
    "plt.title('Distribution of party_naam')\n",
    "plt.show()"
   ]
  },
  {
   "cell_type": "code",
   "execution_count": 8,
   "metadata": {},
   "outputs": [
    {
     "data": {
      "text/plain": [
       "party_naam\n",
       "Open Vld          148\n",
       "N-VA               85\n",
       "Vlaams Belang      53\n",
       "CD&V               45\n",
       "Groen              45\n",
       "Vooruit            43\n",
       "cd&v               30\n",
       "sp┬╖a              24\n",
       "Onafhankelijke      7\n",
       "LDD                 5\n",
       "VB                  2\n",
       "VU&ID               2\n",
       "VLD                 1\n",
       "Groen!              1\n",
       "UF                  1\n",
       "Name: count, dtype: int64"
      ]
     },
     "execution_count": 8,
     "metadata": {},
     "output_type": "execute_result"
    }
   ],
   "source": [
    "party_distribution = df['party_naam'].value_counts()\n",
    "party_distribution"
   ]
  },
  {
   "cell_type": "markdown",
   "metadata": {},
   "source": [
    "Some of these parties no longer exist or had a name change. \n",
    "- VB = Vlaams Belang, \n",
    "- Groen! = Groen (name change)\n",
    "- LDD = Lijst Dedecker \n",
    "- cd&V = CD&V\n",
    "- sp.a = Vooruit (name change)\n",
    "- UF = Union des Francophones\n",
    "\n",
    "I will now create a column that indicates the position of the parties on the GAL/TAN dimension, using data from the Chapel Hill Expert Survey (2019)."
   ]
  },
  {
   "cell_type": "code",
   "execution_count": 3,
   "metadata": {},
   "outputs": [
    {
     "data": {
      "text/html": [
       "<div>\n",
       "<style scoped>\n",
       "    .dataframe tbody tr th:only-of-type {\n",
       "        vertical-align: middle;\n",
       "    }\n",
       "\n",
       "    .dataframe tbody tr th {\n",
       "        vertical-align: top;\n",
       "    }\n",
       "\n",
       "    .dataframe thead th {\n",
       "        text-align: right;\n",
       "    }\n",
       "</style>\n",
       "<table border=\"1\" class=\"dataframe\">\n",
       "  <thead>\n",
       "    <tr style=\"text-align: right;\">\n",
       "      <th></th>\n",
       "      <th>country</th>\n",
       "      <th>eastwest</th>\n",
       "      <th>eumember</th>\n",
       "      <th>year</th>\n",
       "      <th>expert</th>\n",
       "      <th>party_id</th>\n",
       "      <th>cmp_id</th>\n",
       "      <th>party</th>\n",
       "      <th>vote</th>\n",
       "      <th>seat</th>\n",
       "      <th>...</th>\n",
       "      <th>russian_interference</th>\n",
       "      <th>anti_islam_rhetoric</th>\n",
       "      <th>people_vs_elite</th>\n",
       "      <th>antielite_salience</th>\n",
       "      <th>corrupt_salience</th>\n",
       "      <th>members_vs_leadership</th>\n",
       "      <th>mip_one</th>\n",
       "      <th>mip_two</th>\n",
       "      <th>mip_three</th>\n",
       "      <th>chesversion</th>\n",
       "    </tr>\n",
       "  </thead>\n",
       "  <tbody>\n",
       "    <tr>\n",
       "      <th>0</th>\n",
       "      <td>1</td>\n",
       "      <td>1</td>\n",
       "      <td>1</td>\n",
       "      <td>1999</td>\n",
       "      <td>9</td>\n",
       "      <td>115</td>\n",
       "      <td>NaN</td>\n",
       "      <td>FN</td>\n",
       "      <td>1.5</td>\n",
       "      <td>0.7</td>\n",
       "      <td>...</td>\n",
       "      <td>NaN</td>\n",
       "      <td>NaN</td>\n",
       "      <td>NaN</td>\n",
       "      <td>NaN</td>\n",
       "      <td>NaN</td>\n",
       "      <td>NaN</td>\n",
       "      <td>NaN</td>\n",
       "      <td>NaN</td>\n",
       "      <td>NaN</td>\n",
       "      <td>2020.1</td>\n",
       "    </tr>\n",
       "    <tr>\n",
       "      <th>1</th>\n",
       "      <td>1</td>\n",
       "      <td>1</td>\n",
       "      <td>1</td>\n",
       "      <td>1999</td>\n",
       "      <td>9</td>\n",
       "      <td>109</td>\n",
       "      <td>21521.0</td>\n",
       "      <td>CVP</td>\n",
       "      <td>14.1</td>\n",
       "      <td>14.7</td>\n",
       "      <td>...</td>\n",
       "      <td>NaN</td>\n",
       "      <td>NaN</td>\n",
       "      <td>NaN</td>\n",
       "      <td>NaN</td>\n",
       "      <td>NaN</td>\n",
       "      <td>NaN</td>\n",
       "      <td>NaN</td>\n",
       "      <td>NaN</td>\n",
       "      <td>NaN</td>\n",
       "      <td>2020.1</td>\n",
       "    </tr>\n",
       "    <tr>\n",
       "      <th>2</th>\n",
       "      <td>1</td>\n",
       "      <td>1</td>\n",
       "      <td>1</td>\n",
       "      <td>1999</td>\n",
       "      <td>9</td>\n",
       "      <td>107</td>\n",
       "      <td>21421.0</td>\n",
       "      <td>PVV/VLD</td>\n",
       "      <td>14.3</td>\n",
       "      <td>15.3</td>\n",
       "      <td>...</td>\n",
       "      <td>NaN</td>\n",
       "      <td>NaN</td>\n",
       "      <td>NaN</td>\n",
       "      <td>NaN</td>\n",
       "      <td>NaN</td>\n",
       "      <td>NaN</td>\n",
       "      <td>NaN</td>\n",
       "      <td>NaN</td>\n",
       "      <td>NaN</td>\n",
       "      <td>2020.1</td>\n",
       "    </tr>\n",
       "  </tbody>\n",
       "</table>\n",
       "<p>3 rows × 84 columns</p>\n",
       "</div>"
      ],
      "text/plain": [
       "   country  eastwest  eumember  year  expert  party_id   cmp_id    party  \\\n",
       "0        1         1         1  1999       9       115      NaN       FN   \n",
       "1        1         1         1  1999       9       109  21521.0      CVP   \n",
       "2        1         1         1  1999       9       107  21421.0  PVV/VLD   \n",
       "\n",
       "   vote  seat  ...  russian_interference  anti_islam_rhetoric  \\\n",
       "0   1.5   0.7  ...                   NaN                  NaN   \n",
       "1  14.1  14.7  ...                   NaN                  NaN   \n",
       "2  14.3  15.3  ...                   NaN                  NaN   \n",
       "\n",
       "   people_vs_elite  antielite_salience  corrupt_salience  \\\n",
       "0              NaN                 NaN               NaN   \n",
       "1              NaN                 NaN               NaN   \n",
       "2              NaN                 NaN               NaN   \n",
       "\n",
       "   members_vs_leadership  mip_one  mip_two  mip_three  chesversion  \n",
       "0                    NaN      NaN      NaN        NaN       2020.1  \n",
       "1                    NaN      NaN      NaN        NaN       2020.1  \n",
       "2                    NaN      NaN      NaN        NaN       2020.1  \n",
       "\n",
       "[3 rows x 84 columns]"
      ]
     },
     "execution_count": 3,
     "metadata": {},
     "output_type": "execute_result"
    }
   ],
   "source": [
    "CHES = pd.read_csv('1999-2019_CHES_dataset_means(v3).csv')\n",
    "CHES.head(3)"
   ]
  },
  {
   "cell_type": "code",
   "execution_count": 5,
   "metadata": {},
   "outputs": [
    {
     "data": {
      "text/plain": [
       "1196"
      ]
     },
     "execution_count": 5,
     "metadata": {},
     "output_type": "execute_result"
    }
   ],
   "source": [
    "len(CHES)"
   ]
  },
  {
   "cell_type": "code",
   "execution_count": 6,
   "metadata": {},
   "outputs": [
    {
     "data": {
      "text/plain": [
       "72"
      ]
     },
     "execution_count": 6,
     "metadata": {},
     "output_type": "execute_result"
    }
   ],
   "source": [
    "# country = 1 for Belgium\n",
    "CHES = CHES[CHES['country'] == 1]\n",
    "len(CHES)"
   ]
  },
  {
   "cell_type": "code",
   "execution_count": 14,
   "metadata": {},
   "outputs": [],
   "source": [
    "# dropping all columns except for these \n",
    "keep = ['country', 'year','party_id', 'party', 'galtan']\n",
    "CHES = CHES.drop(CHES.columns.difference(keep), axis=1)"
   ]
  },
  {
   "cell_type": "code",
   "execution_count": 15,
   "metadata": {},
   "outputs": [
    {
     "data": {
      "text/html": [
       "<div>\n",
       "<style scoped>\n",
       "    .dataframe tbody tr th:only-of-type {\n",
       "        vertical-align: middle;\n",
       "    }\n",
       "\n",
       "    .dataframe tbody tr th {\n",
       "        vertical-align: top;\n",
       "    }\n",
       "\n",
       "    .dataframe thead th {\n",
       "        text-align: right;\n",
       "    }\n",
       "</style>\n",
       "<table border=\"1\" class=\"dataframe\">\n",
       "  <thead>\n",
       "    <tr style=\"text-align: right;\">\n",
       "      <th></th>\n",
       "      <th>country</th>\n",
       "      <th>year</th>\n",
       "      <th>party_id</th>\n",
       "      <th>party</th>\n",
       "      <th>galtan</th>\n",
       "    </tr>\n",
       "  </thead>\n",
       "  <tbody>\n",
       "    <tr>\n",
       "      <th>0</th>\n",
       "      <td>1</td>\n",
       "      <td>1999</td>\n",
       "      <td>115</td>\n",
       "      <td>FN</td>\n",
       "      <td>9.750000</td>\n",
       "    </tr>\n",
       "    <tr>\n",
       "      <th>1</th>\n",
       "      <td>1</td>\n",
       "      <td>1999</td>\n",
       "      <td>109</td>\n",
       "      <td>CVP</td>\n",
       "      <td>7.375000</td>\n",
       "    </tr>\n",
       "    <tr>\n",
       "      <th>2</th>\n",
       "      <td>1</td>\n",
       "      <td>1999</td>\n",
       "      <td>107</td>\n",
       "      <td>PVV/VLD</td>\n",
       "      <td>5.125000</td>\n",
       "    </tr>\n",
       "    <tr>\n",
       "      <th>3</th>\n",
       "      <td>1</td>\n",
       "      <td>1999</td>\n",
       "      <td>106</td>\n",
       "      <td>PRL</td>\n",
       "      <td>4.714286</td>\n",
       "    </tr>\n",
       "    <tr>\n",
       "      <th>4</th>\n",
       "      <td>1</td>\n",
       "      <td>1999</td>\n",
       "      <td>110</td>\n",
       "      <td>VU</td>\n",
       "      <td>4.000000</td>\n",
       "    </tr>\n",
       "    <tr>\n",
       "      <th>...</th>\n",
       "      <td>...</td>\n",
       "      <td>...</td>\n",
       "      <td>...</td>\n",
       "      <td>...</td>\n",
       "      <td>...</td>\n",
       "    </tr>\n",
       "    <tr>\n",
       "      <th>67</th>\n",
       "      <td>1</td>\n",
       "      <td>2019</td>\n",
       "      <td>104</td>\n",
       "      <td>ECOLO</td>\n",
       "      <td>1.083333</td>\n",
       "    </tr>\n",
       "    <tr>\n",
       "      <th>68</th>\n",
       "      <td>1</td>\n",
       "      <td>2019</td>\n",
       "      <td>102</td>\n",
       "      <td>PS</td>\n",
       "      <td>2.916667</td>\n",
       "    </tr>\n",
       "    <tr>\n",
       "      <th>69</th>\n",
       "      <td>1</td>\n",
       "      <td>2019</td>\n",
       "      <td>106</td>\n",
       "      <td>PRL/MR</td>\n",
       "      <td>3.181818</td>\n",
       "    </tr>\n",
       "    <tr>\n",
       "      <th>70</th>\n",
       "      <td>1</td>\n",
       "      <td>2019</td>\n",
       "      <td>109</td>\n",
       "      <td>CDV</td>\n",
       "      <td>6.250000</td>\n",
       "    </tr>\n",
       "    <tr>\n",
       "      <th>71</th>\n",
       "      <td>1</td>\n",
       "      <td>2019</td>\n",
       "      <td>108</td>\n",
       "      <td>PSC/CDH</td>\n",
       "      <td>5.000000</td>\n",
       "    </tr>\n",
       "  </tbody>\n",
       "</table>\n",
       "<p>72 rows × 5 columns</p>\n",
       "</div>"
      ],
      "text/plain": [
       "    country  year  party_id    party    galtan\n",
       "0         1  1999       115       FN  9.750000\n",
       "1         1  1999       109      CVP  7.375000\n",
       "2         1  1999       107  PVV/VLD  5.125000\n",
       "3         1  1999       106      PRL  4.714286\n",
       "4         1  1999       110       VU  4.000000\n",
       "..      ...   ...       ...      ...       ...\n",
       "67        1  2019       104    ECOLO  1.083333\n",
       "68        1  2019       102       PS  2.916667\n",
       "69        1  2019       106   PRL/MR  3.181818\n",
       "70        1  2019       109      CDV  6.250000\n",
       "71        1  2019       108  PSC/CDH  5.000000\n",
       "\n",
       "[72 rows x 5 columns]"
      ]
     },
     "execution_count": 15,
     "metadata": {},
     "output_type": "execute_result"
    }
   ],
   "source": [
    "CHES"
   ]
  },
  {
   "cell_type": "code",
   "execution_count": 17,
   "metadata": {},
   "outputs": [
    {
     "data": {
      "text/plain": [
       "array([1999, 2002, 2006, 2010, 2014, 2019], dtype=int64)"
      ]
     },
     "execution_count": 17,
     "metadata": {},
     "output_type": "execute_result"
    }
   ],
   "source": [
    "# checking the unique years\n",
    "unique_years = CHES['year'].unique()\n",
    "unique_years "
   ]
  },
  {
   "cell_type": "code",
   "execution_count": 21,
   "metadata": {},
   "outputs": [
    {
     "name": "stdout",
     "output_type": "stream",
     "text": [
      "Year 1999: ['FN' 'CVP' 'PVV/VLD' 'PRL' 'VU' 'FDF' 'SP' 'MCC' 'ID21' 'PSC' 'PS'\n",
      " 'AGALEV' 'VB' 'ECOLO']\n",
      "Year 2002: ['PS' 'CDH' 'CD&V' 'VLD' 'AGALEV' 'VB' 'SP' 'NVA' 'MR' 'ECOLO']\n",
      "Year 2006: ['CD&V' 'MR' 'Groen' 'NVA' 'PS' 'CDH' 'VB' 'ECOLO' 'SPA' 'VLD']\n",
      "Year 2010: ['VB' 'SPA' 'LDD' 'PVDA' 'VLD' 'CD&V' 'CDH' 'Groen' 'PS' 'NVA' 'Spirit'\n",
      " 'ECOLO' 'MR' 'FN']\n",
      "Year 2014: ['VB' 'NVA' 'PS' 'MR' 'FDF' 'SPA' 'ECOLO' 'PVDA' 'CD&V' 'Groen' 'CDH'\n",
      " 'VLD' 'PP']\n",
      "Year 2019: ['PVDA-PTB' 'VU/NVA' 'AGALEV' 'VB' 'VLD/PVV' 'SP/SPA' 'ECOLO' 'PS'\n",
      " 'PRL/MR' 'CDV' 'PSC/CDH']\n"
     ]
    }
   ],
   "source": [
    "grouped = CHES.groupby('year')['party'].unique()\n",
    "for year, parties in grouped.items():\n",
    "    print(f\"Year {year}: {parties}\")"
   ]
  },
  {
   "cell_type": "code",
   "execution_count": 22,
   "metadata": {},
   "outputs": [
    {
     "name": "stdout",
     "output_type": "stream",
     "text": [
      "Year 1995-1999: ['Vlaams Belang' 'VB']\n",
      "Year 1999-2004: ['CD&V' 'VU&ID' 'Vlaams Belang' 'Open Vld' 'VLD' 'Groen!']\n",
      "Year 2004-2009: ['sp┬╖a' 'cd&v' 'N-VA' 'Vlaams Belang' 'Open Vld' 'CD&V' 'Onafhankelijke']\n",
      "Year 2009-2014: ['CD&V' 'N-VA' 'Open Vld' 'Vlaams Belang' 'sp┬╖a' 'cd&v' 'Onafhankelijke'\n",
      " 'LDD' 'UF']\n",
      "Year 2014-2019: ['CD&V' 'Open Vld' 'N-VA' 'sp┬╖a' 'cd&v' 'Vooruit' 'Vlaams Belang' 'Groen'\n",
      " 'Onafhankelijke']\n",
      "Year 2019-2024: ['cd&v' 'Open Vld' 'Vlaams Belang' 'Vooruit' 'N-VA' 'Groen'\n",
      " 'Onafhankelijke']\n"
     ]
    }
   ],
   "source": [
    "grouped = df.groupby('zittingsperiode')['party_naam'].unique()\n",
    "for year, parties in grouped.items():\n",
    "    print(f\"Year {year}: {parties}\")"
   ]
  },
  {
   "cell_type": "code",
   "execution_count": 28,
   "metadata": {},
   "outputs": [],
   "source": [
    "# adding galtan values to df\n",
    "\n",
    "def merge_ches_to_df(df, ches):\n",
    "\n",
    "    merged_df = df.copy()\n",
    "    \n",
    "    # define mappings\n",
    "    conditions_actions = {\n",
    "        ('1995-1999', 'Vlaams Belang'): ('VB', 1999),\n",
    "        ('1995-1999', 'VB'): ('VB', 1999),\n",
    "        ('1999-2004', 'CD&V'): ('CD&V', 2002),\n",
    "        ('1999-2004', 'VU&ID'): ('NVA', 2002),\n",
    "        ('1999-2004', 'Open Vld'): ('VLD', 2002),\n",
    "        ('1999-2004', 'VLD'): ('VLD', 2002),\n",
    "        ('1999-2004', 'Groen!'): ('AGALEV', 2002),\n",
    "        ('1999-2004', 'Vlaams Belang'): ('VB', 2002),\n",
    "        ('2004-2009', 'sp┬╖a'): ('SPA', 2006),\n",
    "        ('2004-2009', 'cd&v'): ('CD&V', 2006),\n",
    "        ('2004-2009', 'CD&V'): ('CD&V', 2006),\n",
    "        ('2004-2009', 'Open Vld'): ('VLD', 2006),\n",
    "        ('2004-2009', 'N-VA'): ('NVA', 2006),\n",
    "        ('2004-2009', 'Vlaams Belang'): ('VB', 2006),\n",
    "        ('2009-2014', 'CD&V'): ('CD&V', 2010),\n",
    "        ('2009-2014', 'cd&v'): ('CD&V', 2010),\n",
    "        ('2009-2014', 'N-VA'): ('NVA', 2010),\n",
    "        ('2009-2014', 'Open Vld'): ('VLD', 2010),\n",
    "        ('2009-2014', 'Vlaams Belang'): ('VB', 2010),\n",
    "        ('2009-2014', 'sp┬╖a'): ('SPA', 2010),\n",
    "        ('2009-2014', 'LDD'): ('LDD', 2010),\n",
    "        ('2009-2014', 'UF'): ('FDF', 2014),\n",
    "        ('2014-2019', 'CD&V'): ('CD&V', 2014),\n",
    "        ('2014-2019', 'cd&v'): ('CD&V', 2014),\n",
    "        ('2014-2019', 'N-VA'): ('NVA', 2014),\n",
    "        ('2014-2019', 'Open Vld'): ('VLD', 2014),\n",
    "        ('2014-2019', 'Vlaams Belang'): ('VB', 2014),\n",
    "        ('2014-2019', 'sp┬╖a'): ('SPA', 2014),\n",
    "        ('2014-2019', 'Vooruit'): ('SPA', 2014),\n",
    "        ('2014-2019', 'Groen'): ('Groen', 2014),\n",
    "        ('2019-2024', 'cd&v'): ('CDV', 2019),\n",
    "        ('2019-2024', 'N-VA'): ('VU/NVA', 2019),\n",
    "        ('2019-2024', 'Open Vld'): ('VLD/PVV', 2019),\n",
    "        ('2019-2024', 'Vlaams Belang'): ('VB', 2019),\n",
    "        ('2019-2024', 'Vooruit'): ('SP/SPA', 2019),\n",
    "        ('2019-2024', 'Groen'): ('AGALEV', 2019),\n",
    "\n",
    "    }\n",
    "    \n",
    "    for index, row in df.iterrows():\n",
    "        key = (row['zittingsperiode'], row['party_naam'])\n",
    "        if key in conditions_actions:\n",
    "            party_ches, year_ches = conditions_actions[key]\n",
    "            # Find corresponding galtan value from CHES\n",
    "            galtan_value = ches.loc[(ches['party'] == party_ches) & (ches['year'] == year_ches), 'galtan'].iloc[0]\n",
    "            merged_df.at[index, 'galtan'] = galtan_value\n",
    "    \n",
    "    return merged_df\n"
   ]
  },
  {
   "cell_type": "code",
   "execution_count": 29,
   "metadata": {},
   "outputs": [
    {
     "name": "stdout",
     "output_type": "stream",
     "text": [
      "     id_fact zittingsjaar naam_vragensteller voornaam_vragensteller  \\\n",
      "0     449734      BZ 1995           Dewinter                  Filip   \n",
      "1     452087    1996-1997  Van Nieuwenhuysen                    Luk   \n",
      "2     451535    1995-1996  Van Nieuwenhuysen                    Luk   \n",
      "3     451240    1995-1996             Dillen                Marijke   \n",
      "4     450798    1995-1996           Dewinter                  Filip   \n",
      "..       ...          ...                ...                    ...   \n",
      "487  1714426    2022-2023            Sminate                  Nadia   \n",
      "488  1711732    2022-2023              Saeys                  Freya   \n",
      "489  1774502    2023-2024           Perdaens                  Freya   \n",
      "490  1771914    2023-2024               Ampe                    Els   \n",
      "491  1762780    2022-2023         Groothedde                  Celia   \n",
      "\n",
      "     id_vragensteller bevraagde_minister_naam bevraagde_minister_voornaam  \\\n",
      "0                1803         Van den Bossche                         Luc   \n",
      "1                1907              Van Rompuy                        Eric   \n",
      "2                1907            Van Asbroeck                        Anne   \n",
      "3                1805            Van Asbroeck                        Anne   \n",
      "4                1803            Van Asbroeck                        Anne   \n",
      "..                ...                     ...                         ...   \n",
      "487              4089                  Somers                        Bart   \n",
      "488              4086                 Crevits                       Hilde   \n",
      "489              4405                   Weyts                         Ben   \n",
      "490              4382                   Weyts                         Ben   \n",
      "491              4398                   Weyts                         Ben   \n",
      "\n",
      "     bevraagde_minister_id publicatiedatum  \\\n",
      "0                     1890      1995-10-11   \n",
      "1                     1912      1996-12-12   \n",
      "2                     1886      1996-10-08   \n",
      "3                     1886      1996-07-26   \n",
      "4                     1886      1996-07-04   \n",
      "..                     ...             ...   \n",
      "487                   2773      2023-04-25   \n",
      "488                   2789      2023-04-25   \n",
      "489                   4104      2023-12-21   \n",
      "490                   4104      2023-12-14   \n",
      "491                   4104      2023-11-10   \n",
      "\n",
      "                                                  text  ... party_id  \\\n",
      "0    Vraag nr. 22 van 4 september 1995 van de heer ...  ...  1279900   \n",
      "1    Vraag nr. 30 Indien besloten wordt een bepaald...  ...  1491028   \n",
      "2    Vraag nr. 42 aan de balies van de Vlaamse Geme...  ...  1491028   \n",
      "3    Vraag nr. 33 gehandicapten. Een Interdeparteme...  ...  1491023   \n",
      "4    Vraag nr. 24 van 23 april 1996 van de heer FIL...  ...  1279900   \n",
      "..                                                 ...  ...      ...   \n",
      "487  SCHRIFTELIJKE VRAAG nr. 223 van NADIA SMINATE ...  ...  1279896   \n",
      "488  SCHRIFTELIJKE VRAAG nr. 450 van FREYA SAEYS da...  ...  1279901   \n",
      "489  SCHRIFTELIJKE VRAAG nr. 81 van FREYA PERDAENS ...  ...  1279896   \n",
      "490  SCHRIFTELIJKE VRAAG nr. 63 van ELS AMPE datum:...  ...       -1   \n",
      "491  SCHRIFTELIJKE VRAAG nr. 917 van CELIA GROOTHED...  ...  1279907   \n",
      "\n",
      "         party_naam zittingsperiode antwoord_count Antwoord_ANTWOORD_count  \\\n",
      "0     Vlaams Belang       1995-1999              1                       1   \n",
      "1     Vlaams Belang       1995-1999              0                       0   \n",
      "2     Vlaams Belang       1995-1999              1                       1   \n",
      "3     Vlaams Belang       1995-1999              0                       0   \n",
      "4     Vlaams Belang       1995-1999              1                       1   \n",
      "..              ...             ...            ...                     ...   \n",
      "487            N-VA       2019-2024              1                       1   \n",
      "488        Open Vld       2019-2024              1                       1   \n",
      "489            N-VA       2019-2024              1                       1   \n",
      "490  Onafhankelijke       2019-2024              1                       1   \n",
      "491           Groen       2019-2024              1                       1   \n",
      "\n",
      "    check  split_location                                           question  \\\n",
      "0       1        Antwoord  Vraag nr. 22 van 4 september 1995 van de heer ...   \n",
      "1       0        Antwoord  Vraag nr. 30 Indien besloten wordt een bepaald...   \n",
      "2       1        Antwoord  Vraag nr. 42 aan de balies van de Vlaamse Geme...   \n",
      "3       0        Antwoord  Vraag nr. 33 gehandicapten. Een Interdeparteme...   \n",
      "4       1        Antwoord  Vraag nr. 24 van 23 april 1996 van de heer FIL...   \n",
      "..    ...             ...                                                ...   \n",
      "487     1        ANTWOORD  SCHRIFTELIJKE VRAAG nr. 223 van NADIA SMINATE ...   \n",
      "488     1        ANTWOORD  SCHRIFTELIJKE VRAAG nr. 450 van FREYA SAEYS da...   \n",
      "489     1        ANTWOORD  SCHRIFTELIJKE VRAAG nr. 81 van FREYA PERDAENS ...   \n",
      "490     1        ANTWOORD  SCHRIFTELIJKE VRAAG nr. 63 van ELS AMPE datum:...   \n",
      "491     1        ANTWOORD  SCHRIFTELIJKE VRAAG nr. 917 van CELIA GROOTHED...   \n",
      "\n",
      "                                                answer    galtan  \n",
      "0    Antwoord De in de vraag aangehaalde problemati...  9.750000  \n",
      "1    Antwoord pen werd op 28 en 29 september 1996 e...  9.750000  \n",
      "2    Antwoord Gelijke-kansenbeleid Brusselse Aangel...  9.750000  \n",
      "3    Antwoord se administratie en de Vlaamse Openba...  9.750000  \n",
      "4    Antwoord Ik heb inderdaad een TV-spot laten ma...  9.750000  \n",
      "..                                                 ...       ...  \n",
      "487  ANTWOORD op vraag nr. 223 van 3 maart 2023 van...  6.090909  \n",
      "488  ANTWOORD op vraag nr. 450 van 27 februari 2023...  2.454545  \n",
      "489  ANTWOORD op vraag nr. 81 van 24 oktober 2023 v...  6.090909  \n",
      "490  ANTWOORD op vraag nr. 63 van 17 oktober 2023 v...       NaN  \n",
      "491  ANTWOORD op vraag nr. 917 van 20 september 202...  1.166667  \n",
      "\n",
      "[492 rows x 26 columns]\n"
     ]
    }
   ],
   "source": [
    "merged_df = merge_ches_to_df(df, CHES)\n",
    "print(merged_df)"
   ]
  },
  {
   "cell_type": "markdown",
   "metadata": {},
   "source": [
    "Let's check if there are any missing values for the GALTAN score. Normally, there should only be missing values for the party Onafhankelijke."
   ]
  },
  {
   "cell_type": "code",
   "execution_count": 30,
   "metadata": {},
   "outputs": [
    {
     "name": "stdout",
     "output_type": "stream",
     "text": [
      "Number of missing values in galtan: 7\n",
      "Party_naam values for rows with missing galtan:\n",
      "78     Onafhankelijke\n",
      "79     Onafhankelijke\n",
      "83     Onafhankelijke\n",
      "128    Onafhankelijke\n",
      "314    Onafhankelijke\n",
      "315    Onafhankelijke\n",
      "490    Onafhankelijke\n",
      "Name: party_naam, dtype: object\n"
     ]
    }
   ],
   "source": [
    "missing_galtan = merged_df['galtan'].isna()\n",
    "num_missing = missing_galtan.sum()\n",
    "print(f'Number of missing values in galtan: {num_missing}')\n",
    "\n",
    "# Get the 'party_naam' values for rows where 'galtan' is missing\n",
    "missing_party_naam = merged_df.loc[missing_galtan, 'party_naam']\n",
    "print('Party_naam values for rows with missing galtan:')\n",
    "print(missing_party_naam)"
   ]
  },
  {
   "cell_type": "markdown",
   "metadata": {},
   "source": [
    "Indeed, there are 7 instances with a missing GALTAN score, all of them are from the party Onafhankelijke, because this party was missing in the CHES dataset.\n",
    "\n",
    "I will now impute their missing value with the overall mean, because the amount of instances per term are not equally large enough for all terms to impute with a mean calculated per term, the GALTAN score for Onafhankelijke will then fluctuate too much. "
   ]
  },
  {
   "cell_type": "code",
   "execution_count": 34,
   "metadata": {},
   "outputs": [
    {
     "data": {
      "text/plain": [
       "4.556423584790574"
      ]
     },
     "execution_count": 34,
     "metadata": {},
     "output_type": "execute_result"
    }
   ],
   "source": [
    "# compute mean GALTAN score\n",
    "mean_galtan = merged_df['galtan'].mean()\n",
    "mean_galtan"
   ]
  },
  {
   "cell_type": "code",
   "execution_count": 35,
   "metadata": {},
   "outputs": [],
   "source": [
    "# impute missing GALTAN values for Onafhankelijke with the overall mean\n",
    "merged_df['galtan'].fillna(mean_galtan, inplace=True)"
   ]
  },
  {
   "cell_type": "code",
   "execution_count": 36,
   "metadata": {},
   "outputs": [
    {
     "data": {
      "text/plain": [
       "0"
      ]
     },
     "execution_count": 36,
     "metadata": {},
     "output_type": "execute_result"
    }
   ],
   "source": [
    "# check if there are any remaining missing GALTAN values \n",
    "merged_df['galtan'].isna().sum()"
   ]
  },
  {
   "cell_type": "markdown",
   "metadata": {},
   "source": [
    "No missing values for the 'galtan' variable anymore. Now, each party has a galtan score."
   ]
  },
  {
   "cell_type": "code",
   "execution_count": 38,
   "metadata": {},
   "outputs": [
    {
     "data": {
      "text/html": [
       "<div>\n",
       "<style scoped>\n",
       "    .dataframe tbody tr th:only-of-type {\n",
       "        vertical-align: middle;\n",
       "    }\n",
       "\n",
       "    .dataframe tbody tr th {\n",
       "        vertical-align: top;\n",
       "    }\n",
       "\n",
       "    .dataframe thead th {\n",
       "        text-align: right;\n",
       "    }\n",
       "</style>\n",
       "<table border=\"1\" class=\"dataframe\">\n",
       "  <thead>\n",
       "    <tr style=\"text-align: right;\">\n",
       "      <th></th>\n",
       "      <th>id_fact</th>\n",
       "      <th>zittingsjaar</th>\n",
       "      <th>naam_vragensteller</th>\n",
       "      <th>voornaam_vragensteller</th>\n",
       "      <th>id_vragensteller</th>\n",
       "      <th>bevraagde_minister_naam</th>\n",
       "      <th>bevraagde_minister_voornaam</th>\n",
       "      <th>bevraagde_minister_id</th>\n",
       "      <th>publicatiedatum</th>\n",
       "      <th>text</th>\n",
       "      <th>...</th>\n",
       "      <th>party_id</th>\n",
       "      <th>party_naam</th>\n",
       "      <th>zittingsperiode</th>\n",
       "      <th>antwoord_count</th>\n",
       "      <th>Antwoord_ANTWOORD_count</th>\n",
       "      <th>check</th>\n",
       "      <th>split_location</th>\n",
       "      <th>question</th>\n",
       "      <th>answer</th>\n",
       "      <th>galtan</th>\n",
       "    </tr>\n",
       "  </thead>\n",
       "  <tbody>\n",
       "    <tr>\n",
       "      <th>0</th>\n",
       "      <td>449734</td>\n",
       "      <td>BZ 1995</td>\n",
       "      <td>Dewinter</td>\n",
       "      <td>Filip</td>\n",
       "      <td>1803</td>\n",
       "      <td>Van den Bossche</td>\n",
       "      <td>Luc</td>\n",
       "      <td>1890</td>\n",
       "      <td>1995-10-11</td>\n",
       "      <td>Vraag nr. 22 van 4 september 1995 van de heer ...</td>\n",
       "      <td>...</td>\n",
       "      <td>1279900</td>\n",
       "      <td>Vlaams Belang</td>\n",
       "      <td>1995-1999</td>\n",
       "      <td>1</td>\n",
       "      <td>1</td>\n",
       "      <td>1</td>\n",
       "      <td>Antwoord</td>\n",
       "      <td>Vraag nr. 22 van 4 september 1995 van de heer ...</td>\n",
       "      <td>Antwoord De in de vraag aangehaalde problemati...</td>\n",
       "      <td>9.75</td>\n",
       "    </tr>\n",
       "    <tr>\n",
       "      <th>1</th>\n",
       "      <td>452087</td>\n",
       "      <td>1996-1997</td>\n",
       "      <td>Van Nieuwenhuysen</td>\n",
       "      <td>Luk</td>\n",
       "      <td>1907</td>\n",
       "      <td>Van Rompuy</td>\n",
       "      <td>Eric</td>\n",
       "      <td>1912</td>\n",
       "      <td>1996-12-12</td>\n",
       "      <td>Vraag nr. 30 Indien besloten wordt een bepaald...</td>\n",
       "      <td>...</td>\n",
       "      <td>1491028</td>\n",
       "      <td>Vlaams Belang</td>\n",
       "      <td>1995-1999</td>\n",
       "      <td>0</td>\n",
       "      <td>0</td>\n",
       "      <td>0</td>\n",
       "      <td>Antwoord</td>\n",
       "      <td>Vraag nr. 30 Indien besloten wordt een bepaald...</td>\n",
       "      <td>Antwoord pen werd op 28 en 29 september 1996 e...</td>\n",
       "      <td>9.75</td>\n",
       "    </tr>\n",
       "    <tr>\n",
       "      <th>2</th>\n",
       "      <td>451535</td>\n",
       "      <td>1995-1996</td>\n",
       "      <td>Van Nieuwenhuysen</td>\n",
       "      <td>Luk</td>\n",
       "      <td>1907</td>\n",
       "      <td>Van Asbroeck</td>\n",
       "      <td>Anne</td>\n",
       "      <td>1886</td>\n",
       "      <td>1996-10-08</td>\n",
       "      <td>Vraag nr. 42 aan de balies van de Vlaamse Geme...</td>\n",
       "      <td>...</td>\n",
       "      <td>1491028</td>\n",
       "      <td>Vlaams Belang</td>\n",
       "      <td>1995-1999</td>\n",
       "      <td>1</td>\n",
       "      <td>1</td>\n",
       "      <td>1</td>\n",
       "      <td>Antwoord</td>\n",
       "      <td>Vraag nr. 42 aan de balies van de Vlaamse Geme...</td>\n",
       "      <td>Antwoord Gelijke-kansenbeleid Brusselse Aangel...</td>\n",
       "      <td>9.75</td>\n",
       "    </tr>\n",
       "  </tbody>\n",
       "</table>\n",
       "<p>3 rows × 26 columns</p>\n",
       "</div>"
      ],
      "text/plain": [
       "   id_fact zittingsjaar naam_vragensteller voornaam_vragensteller  \\\n",
       "0   449734      BZ 1995           Dewinter                  Filip   \n",
       "1   452087    1996-1997  Van Nieuwenhuysen                    Luk   \n",
       "2   451535    1995-1996  Van Nieuwenhuysen                    Luk   \n",
       "\n",
       "   id_vragensteller bevraagde_minister_naam bevraagde_minister_voornaam  \\\n",
       "0              1803         Van den Bossche                         Luc   \n",
       "1              1907              Van Rompuy                        Eric   \n",
       "2              1907            Van Asbroeck                        Anne   \n",
       "\n",
       "   bevraagde_minister_id publicatiedatum  \\\n",
       "0                   1890      1995-10-11   \n",
       "1                   1912      1996-12-12   \n",
       "2                   1886      1996-10-08   \n",
       "\n",
       "                                                text  ... party_id  \\\n",
       "0  Vraag nr. 22 van 4 september 1995 van de heer ...  ...  1279900   \n",
       "1  Vraag nr. 30 Indien besloten wordt een bepaald...  ...  1491028   \n",
       "2  Vraag nr. 42 aan de balies van de Vlaamse Geme...  ...  1491028   \n",
       "\n",
       "      party_naam zittingsperiode antwoord_count Antwoord_ANTWOORD_count check  \\\n",
       "0  Vlaams Belang       1995-1999              1                       1     1   \n",
       "1  Vlaams Belang       1995-1999              0                       0     0   \n",
       "2  Vlaams Belang       1995-1999              1                       1     1   \n",
       "\n",
       "   split_location                                           question  \\\n",
       "0        Antwoord  Vraag nr. 22 van 4 september 1995 van de heer ...   \n",
       "1        Antwoord  Vraag nr. 30 Indien besloten wordt een bepaald...   \n",
       "2        Antwoord  Vraag nr. 42 aan de balies van de Vlaamse Geme...   \n",
       "\n",
       "                                              answer  galtan  \n",
       "0  Antwoord De in de vraag aangehaalde problemati...    9.75  \n",
       "1  Antwoord pen werd op 28 en 29 september 1996 e...    9.75  \n",
       "2  Antwoord Gelijke-kansenbeleid Brusselse Aangel...    9.75  \n",
       "\n",
       "[3 rows x 26 columns]"
      ]
     },
     "execution_count": 38,
     "metadata": {},
     "output_type": "execute_result"
    }
   ],
   "source": [
    "merged_df.head(3)"
   ]
  },
  {
   "cell_type": "markdown",
   "metadata": {},
   "source": [
    "Let's now check out the GALTAN distribution."
   ]
  },
  {
   "cell_type": "code",
   "execution_count": 39,
   "metadata": {},
   "outputs": [
    {
     "data": {
      "image/png": "[encoded data removed]",
      "text/plain": [
       "<Figure size 640x480 with 1 Axes>"
      ]
     },
     "metadata": {},
     "output_type": "display_data"
    }
   ],
   "source": [
    "# distribution of galtan values\n",
    "plt.hist(merged_df['galtan'], bins=20, edgecolor='k', alpha=0.7)\n",
    "plt.xlabel('Galtan')\n",
    "plt.ylabel('Frequency')\n",
    "plt.title('Distribution of Galtan Values')\n",
    "plt.show()\n"
   ]
  },
  {
   "cell_type": "code",
   "execution_count": 41,
   "metadata": {},
   "outputs": [
    {
     "data": {
      "text/plain": [
       "array([1.16666663, 2.71      , 6.090909  , 9.75      ])"
      ]
     },
     "execution_count": 41,
     "metadata": {},
     "output_type": "execute_result"
    }
   ],
   "source": [
    "# let's check the bin edges for 3 bins based on equal frequency\n",
    "_, bin_edges = pd.qcut(merged_df['galtan'], q=3, retbins=True, labels=False)\n",
    "bin_edges"
   ]
  },
  {
   "cell_type": "code",
   "execution_count": 42,
   "metadata": {},
   "outputs": [
    {
     "data": {
      "text/plain": [
       "galtan_equal_width_bins\n",
       "(1.158, 4.028]    263\n",
       "(4.028, 6.889]    137\n",
       "(6.889, 9.75]      92\n",
       "Name: count, dtype: int64"
      ]
     },
     "execution_count": 42,
     "metadata": {},
     "output_type": "execute_result"
    }
   ],
   "source": [
    "# let's check for bins with equal width\n",
    "num_bins = 3\n",
    "merged_df['galtan_equal_width_bins'] = pd.cut(merged_df['galtan'], bins=num_bins)\n",
    "\n",
    "# check the frequency of instances in each bin\n",
    "frequency_table = merged_df['galtan_equal_width_bins'].value_counts().sort_index()\n",
    "frequency_table"
   ]
  },
  {
   "cell_type": "code",
   "execution_count": 44,
   "metadata": {},
   "outputs": [
    {
     "data": {
      "text/plain": [
       "galtan_equal_width_bins\n",
       "GAL       263\n",
       "center    137\n",
       "TAN        92\n",
       "Name: count, dtype: int64"
      ]
     },
     "execution_count": 44,
     "metadata": {},
     "output_type": "execute_result"
    }
   ],
   "source": [
    "num_bins = 3\n",
    "custom_labels = ['GAL', 'center', 'TAN']\n",
    "\n",
    "# equal width bins for galtan values\n",
    "merged_df['galtan_equal_width_bins'] = pd.cut(merged_df['galtan'], bins=num_bins, labels=custom_labels)\n",
    "\n",
    "# frequency of instances in each bin\n",
    "frequency_table = merged_df['galtan_equal_width_bins'].value_counts().sort_index()\n",
    "frequency_table"
   ]
  },
  {
   "cell_type": "code",
   "execution_count": 45,
   "metadata": {},
   "outputs": [],
   "source": [
    "file_path = 'df_final.csv'\n",
    "merged_df.to_csv(file_path, index=False)"
   ]
  }
 ],
 "metadata": {
  "kernelspec": {
   "display_name": "mathesis-env",
   "language": "python",
   "name": "python3"
  },
  "language_info": {
   "codemirror_mode": {
    "name": "ipython",
    "version": 3
   },
   "file_extension": ".py",
   "mimetype": "text/x-python",
   "name": "python",
   "nbconvert_exporter": "python",
   "pygments_lexer": "ipython3",
   "version": "3.9.19"
  }
 },
 "nbformat": 4,
 "nbformat_minor": 2
}
