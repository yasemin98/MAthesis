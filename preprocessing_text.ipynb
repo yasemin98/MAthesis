{
 "cells": [
  {
   "cell_type": "markdown",
   "metadata": {},
   "source": [
    "# Preprocessing for Text Analysis\n",
    "\n",
    "In this notebook, I perform the preprocessing of the text, to prepare it for NLP techniques. More specifically, I perform the following steps."
   ]
  }
 ],
 "metadata": {
  "language_info": {
   "name": "python"
  }
 },
 "nbformat": 4,
 "nbformat_minor": 2
}
